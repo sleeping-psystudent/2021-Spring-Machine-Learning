{
 "cells": [
  {
   "cell_type": "markdown",
   "metadata": {
    "id": "Fp30SB4bxeQb"
   },
   "source": [
    "# **Homework 12 - Reinforcement Learning**\n",
    "\n",
    "若有任何問題，歡迎來信至助教信箱 ntu-ml-2021spring-ta@googlegroups.com\n",
    "\n"
   ]
  },
  {
   "cell_type": "markdown",
   "metadata": {
    "id": "yXsnCWPtWSNk"
   },
   "source": [
    "## 前置作業\n",
    "\n",
    "首先我們需要安裝必要的系統套件及 PyPi 套件。\n",
    "gym 這個套件由 OpenAI 所提供，是一套用來開發與比較 Reinforcement Learning 演算法的工具包（toolkit）。\n",
    "而其餘套件則是為了在 Notebook 中繪圖所需要的套件。"
   ]
  },
  {
   "cell_type": "code",
   "execution_count": 1,
   "metadata": {
    "colab": {
     "base_uri": "https://localhost:8080/"
    },
    "id": "5e2bScpnkVbv",
    "outputId": "dd8cf053-de15-4a11-c146-5f3405d1e377"
   },
   "outputs": [],
   "source": [
    "!apt update\n",
    "!apt install python-opengl xvfb -y\n",
    "!pip install gym[box2d]==0.18.3 pyvirtualdisplay tqdm numpy==1.19.5 torch==1.8.1"
   ]
  },
  {
   "cell_type": "markdown",
   "metadata": {
    "id": "M_-i3cdoYsks"
   },
   "source": [
    "接下來，設置好 virtual display，並引入所有必要的套件。"
   ]
  },
  {
   "cell_type": "code",
   "execution_count": 2,
   "metadata": {
    "id": "nl2nREINDLiw"
   },
   "outputs": [],
   "source": [
    "%%capture\n",
    "from pyvirtualdisplay import Display\n",
    "virtual_display = Display(visible=0, size=(1400, 900))\n",
    "virtual_display.start()\n",
    "\n",
    "%matplotlib inline\n",
    "import matplotlib.pyplot as plt\n",
    "\n",
    "from IPython import display\n",
    "\n",
    "import numpy as np\n",
    "import torch\n",
    "import torch.nn as nn\n",
    "import torch.optim as optim\n",
    "import torch.nn.functional as F\n",
    "from torch.distributions import Categorical\n",
    "from tqdm.notebook import tqdm\n",
    "from collections import namedtuple, deque\n",
    "\n",
    "# Determine if CPU or GPU computation should be used\n",
    "device = torch.device(\"cuda:0\" if torch.cuda.is_available() else \"cpu\")"
   ]
  },
  {
   "cell_type": "markdown",
   "metadata": {
    "id": "HVu9-Vdrl4E3"
   },
   "source": [
    "# 請不要更改 random seed !!!!\n",
    "# 不然在judgeboi上 你的成績不會被reproduce !!!!"
   ]
  },
  {
   "cell_type": "code",
   "execution_count": 3,
   "metadata": {
    "id": "fV9i8i2YkRbO"
   },
   "outputs": [],
   "source": [
    "seed = 543 # Do not change this\n",
    "def fix(env, seed):\n",
    "  env.seed(seed)\n",
    "  env.action_space.seed(seed)\n",
    "  torch.manual_seed(seed)\n",
    "  torch.cuda.manual_seed(seed)\n",
    "  torch.cuda.manual_seed_all(seed)\n",
    "  np.random.seed(seed)\n",
    "  random.seed(seed)\n",
    "  #torch.set_deterministic(True)\n",
    "  torch.backends.cudnn.benchmark = False\n",
    "  torch.backends.cudnn.deterministic = True"
   ]
  },
  {
   "cell_type": "markdown",
   "metadata": {
    "id": "He0XDx6bzjgC"
   },
   "source": [
    "最後，引入 OpenAI 的 gym，並建立一個 [Lunar Lander](https://gym.openai.com/envs/LunarLander-v2/) 環境。"
   ]
  },
  {
   "cell_type": "code",
   "execution_count": 4,
   "metadata": {
    "id": "N_4-xJcbBt09"
   },
   "outputs": [],
   "source": [
    "%%capture\n",
    "import gym\n",
    "import random\n",
    "import numpy as np\n",
    "\n",
    "env = gym.make('LunarLander-v2')\n",
    "\n",
    "fix(env, seed)"
   ]
  },
  {
   "cell_type": "code",
   "execution_count": 5,
   "metadata": {
    "id": "NmiAOfqRwRX5"
   },
   "outputs": [],
   "source": [
    "import time\n",
    "start = time.time()"
   ]
  },
  {
   "cell_type": "code",
   "execution_count": 6,
   "metadata": {
    "colab": {
     "base_uri": "https://localhost:8080/"
    },
    "id": "LcMjEUWTBEEB",
    "outputId": "7a5146e4-e877-4d26-fd61-652c57ef1f4e"
   },
   "outputs": [],
   "source": [
    "!pip freeze"
   ]
  },
  {
   "cell_type": "markdown",
   "metadata": {
    "id": "NrkVvTrvWZ5H"
   },
   "source": [
    "## 什麼是 Lunar Lander？\n",
    "\n",
    "“LunarLander-v2” 這個環境是在模擬登月小艇降落在月球表面時的情形。\n",
    "這個任務的目標是讓登月小艇「安全地」降落在兩個黃色旗幟間的平地上。\n",
    "> Landing pad is always at coordinates (0,0).\n",
    "> Coordinates are the first two numbers in state vector.\n",
    "\n",
    "![](https://gym.openai.com/assets/docs/aeloop-138c89d44114492fd02822303e6b4b07213010bb14ca5856d2d49d6b62d88e53.svg)\n",
    "\n",
    "所謂的「環境」其實同時包括了 agent 和 environment。\n",
    "我們利用 `step()` 這個函式讓 agent 行動，而後函式便會回傳 environment 給予的 observation/state（以下這兩個名詞代表同樣的意思）和 reward。"
   ]
  },
  {
   "cell_type": "markdown",
   "metadata": {
    "id": "bIbp82sljvAt"
   },
   "source": [
    "### Observation / State\n",
    "\n",
    "首先，我們可以看看 environment 回傳給 agent 的 observation 究竟是長什麼樣子的資料："
   ]
  },
  {
   "cell_type": "code",
   "execution_count": 7,
   "metadata": {
    "colab": {
     "base_uri": "https://localhost:8080/"
    },
    "id": "rsXZra3N9R5T",
    "outputId": "9512a449-f90a-4545-8aef-dd9aeb9b2b9e"
   },
   "outputs": [
    {
     "name": "stdout",
     "output_type": "stream",
     "text": [
      "Box(-inf, inf, (8,), float32)\n"
     ]
    }
   ],
   "source": [
    "print(env.observation_space)"
   ]
  },
  {
   "cell_type": "markdown",
   "metadata": {
    "id": "ezdfoThbAQ49"
   },
   "source": [
    "`Box(8,)` 說明我們會拿到 8 維的向量作為 observation，其中包含：垂直及水平座標、速度、角度、加速度等等，這部分我們就不細說。\n",
    "\n",
    "### Action\n",
    "\n",
    "而在 agent 得到 observation 和 reward 以後，能夠採取的動作有："
   ]
  },
  {
   "cell_type": "code",
   "execution_count": 8,
   "metadata": {
    "colab": {
     "base_uri": "https://localhost:8080/"
    },
    "id": "p1k4dIrBAaKi",
    "outputId": "64cd523a-bbff-4569-cae9-f65123b3c604"
   },
   "outputs": [
    {
     "name": "stdout",
     "output_type": "stream",
     "text": [
      "Discrete(4)\n"
     ]
    }
   ],
   "source": [
    "print(env.action_space)"
   ]
  },
  {
   "cell_type": "markdown",
   "metadata": {
    "id": "dejXT6PHBrPn"
   },
   "source": [
    "`Discrete(4)` 說明 agent 可以採取四種離散的行動：\n",
    "- 0 代表不採取任何行動\n",
    "- 2 代表主引擎向下噴射\n",
    "- 1, 3 則是向左右噴射\n",
    "\n",
    "接下來，我們嘗試讓 agent 與 environment 互動。\n",
    "在進行任何操作前，建議先呼叫 `reset()` 函式讓整個「環境」重置。\n",
    "而這個函式同時會回傳「環境」最初始的狀態。"
   ]
  },
  {
   "cell_type": "code",
   "execution_count": 9,
   "metadata": {
    "colab": {
     "base_uri": "https://localhost:8080/"
    },
    "id": "pi4OmrmZgnWA",
    "outputId": "c358ff73-1879-4a74-9579-9ee97740dc16"
   },
   "outputs": [
    {
     "name": "stdout",
     "output_type": "stream",
     "text": [
      "[ 0.00396109  1.4083536   0.40119505 -0.11407257 -0.00458307 -0.09087662\n",
      "  0.          0.        ]\n"
     ]
    }
   ],
   "source": [
    "initial_state = env.reset()\n",
    "print(initial_state)"
   ]
  },
  {
   "cell_type": "markdown",
   "metadata": {
    "id": "uBx0mEqqgxJ9"
   },
   "source": [
    "接著，我們試著從 agent 的四種行動空間中，隨機採取一個行動"
   ]
  },
  {
   "cell_type": "code",
   "execution_count": 10,
   "metadata": {
    "colab": {
     "base_uri": "https://localhost:8080/"
    },
    "id": "vxkOEXRKgizt",
    "outputId": "8912cf80-2310-401b-a37e-c0ded59626ee"
   },
   "outputs": [
    {
     "name": "stdout",
     "output_type": "stream",
     "text": [
      "0\n"
     ]
    }
   ],
   "source": [
    "random_action = env.action_space.sample()\n",
    "print(random_action)"
   ]
  },
  {
   "cell_type": "markdown",
   "metadata": {
    "id": "mns-bO01g0-J"
   },
   "source": [
    "再利用 `step()` 函式讓 agent 根據我們隨機抽樣出來的 `random_action` 動作。\n",
    "而這個函式會回傳四項資訊：\n",
    "- observation / state\n",
    "- reward\n",
    "- 完成與否\n",
    "- 其餘資訊"
   ]
  },
  {
   "cell_type": "code",
   "execution_count": 11,
   "metadata": {
    "id": "E_WViSxGgIk9"
   },
   "outputs": [],
   "source": [
    "observation, reward, done, info = env.step(random_action)"
   ]
  },
  {
   "cell_type": "markdown",
   "metadata": {
    "id": "FdieGq7NuBIm"
   },
   "source": [
    "第一項資訊 `observation` 即為 agent 採取行動之後，agent 對於環境的 observation 或者說環境的 state 為何。\n",
    "而第三項資訊 `done` 則是 `True` 或 `False` 的布林值，當登月小艇成功著陸或是不幸墜毀時，代表這個回合（episode）也就跟著結束了，此時 `step()` 函式便會回傳 `done = True`，而在那之前，`done` 則保持 `False`。"
   ]
  },
  {
   "cell_type": "code",
   "execution_count": 12,
   "metadata": {
    "colab": {
     "base_uri": "https://localhost:8080/"
    },
    "id": "yK7r126kuCNp",
    "outputId": "3b99114f-e6b4-4a18-c80b-75189083bd55"
   },
   "outputs": [
    {
     "name": "stdout",
     "output_type": "stream",
     "text": [
      "False\n"
     ]
    }
   ],
   "source": [
    "print(done)"
   ]
  },
  {
   "cell_type": "markdown",
   "metadata": {
    "id": "GKdS8vOihxhc"
   },
   "source": [
    "### Reward\n",
    "\n",
    "而「環境」給予的 reward 大致是這樣計算：\n",
    "- 小艇墜毀得到 -100 分\n",
    "- 小艇在黃旗幟之間成功著地則得 100~140 分\n",
    "- 噴射主引擎（向下噴火）每次 -0.3 分\n",
    "- 小艇最終完全靜止則再得 100 分\n",
    "- 小艇每隻腳碰觸地面 +10 分\n",
    "\n",
    "> Reward for moving from the top of the screen to landing pad and zero speed is about 100..140 points.\n",
    "> If lander moves away from landing pad it loses reward back.\n",
    "> Episode finishes if the lander crashes or comes to rest, receiving additional -100 or +100 points.\n",
    "> Each leg ground contact is +10.\n",
    "> Firing main engine is -0.3 points each frame.\n"
   ]
  },
  {
   "cell_type": "code",
   "execution_count": 13,
   "metadata": {
    "colab": {
     "base_uri": "https://localhost:8080/"
    },
    "id": "vxQNs77hi0_7",
    "outputId": "dacd87b3-734e-44f3-c5b4-361b323def84"
   },
   "outputs": [
    {
     "name": "stdout",
     "output_type": "stream",
     "text": [
      "-0.8588845024543161\n"
     ]
    }
   ],
   "source": [
    "print(reward) # after doing a random action (0), the immediate reward is stored in this "
   ]
  },
  {
   "cell_type": "markdown",
   "metadata": {
    "id": "Mhqp6D-XgHpe"
   },
   "source": [
    "### Random Agent\n",
    "\n",
    "最後，在進入實做之前，我們就來看看這樣一個 random agent 能否成功登陸月球："
   ]
  },
  {
   "cell_type": "code",
   "execution_count": 14,
   "metadata": {
    "colab": {
     "base_uri": "https://localhost:8080/",
     "height": 269
    },
    "id": "Y3G0bxoccelv",
    "outputId": "36096915-445e-40fb-b349-a6a9a5b900d5"
   },
   "outputs": [
    {
     "data": {
      "image/png": "[encoded data removed]",
      "text/plain": [
       "<Figure size 432x288 with 1 Axes>"
      ]
     },
     "metadata": {
      "needs_background": "light"
     },
     "output_type": "display_data"
    }
   ],
   "source": [
    "\n",
    "env.reset()\n",
    "\n",
    "img = plt.imshow(env.render(mode='rgb_array'))\n",
    "\n",
    "done = False\n",
    "while not done:\n",
    "    action = env.action_space.sample()\n",
    "    observation, reward, done, _ = env.step(action)\n",
    "\n",
    "    img.set_data(env.render(mode='rgb_array'))\n",
    "    display.display(plt.gcf())\n",
    "    display.clear_output(wait=True)"
   ]
  },
  {
   "cell_type": "code",
   "execution_count": 15,
   "metadata": {},
   "outputs": [],
   "source": [
    "class QNetwork(nn.Module):\n",
    "    def __init__(self):\n",
    "        super().__init__()\n",
    "        self.fc1 = nn.Linear(8, 16)\n",
    "        self.fc2 = nn.Linear(16, 16)\n",
    "        self.fc3 = nn.Linear(16, 4)\n",
    "\n",
    "    def forward(self, state):\n",
    "        hid = torch.tanh(self.fc1(state))\n",
    "        hid = torch.tanh(self.fc2(hid))\n",
    "        return self.fc3(hid)\n"
   ]
  },
  {
   "cell_type": "code",
   "execution_count": 16,
   "metadata": {},
   "outputs": [],
   "source": [
    "\"\"\"\n",
    "##################################################\n",
    "ReplayBuffer Class\n",
    "Defines  a Replay Memeory Buffer for a DQN or DDQN agent\n",
    "The buffer holds memories of: [sate, action reward, next sate, done] tuples\n",
    "Random batches of replay memories are sampled for learning. \n",
    "\"\"\"\n",
    "class ReplayBuffer:\n",
    "    \"\"\"Fixed-size buffer to store experience tuples.\"\"\"\n",
    "\n",
    "    def __init__(self, action_size, buffer_size, batch_size):\n",
    "        \"\"\"Initialize a ReplayBuffer object.\n",
    "        Params\n",
    "        ======\n",
    "            action_size (int): dimension of each action\n",
    "            buffer_size (int): maximum size of buffer\n",
    "            batch_size (int): size of each training batch\n",
    "            seed (int): random seed\n",
    "        \"\"\"\n",
    "        self.action_size = action_size\n",
    "        self.memory = deque(maxlen=buffer_size)  \n",
    "        self.batch_size = batch_size\n",
    "        self.experience = namedtuple(\"Experience\", field_names=[\"state\", \"action\", \"reward\", \"next_state\", \"done\"])\n",
    "    \n",
    "    def add(self, state, action, reward, next_state, done):\n",
    "        \"\"\"Add a new experience to memory.\"\"\"\n",
    "        e = self.experience(state, action, reward, next_state, done)\n",
    "        self.memory.append(e)\n",
    "    \n",
    "    def sample(self):\n",
    "        \"\"\"Randomly sample a batch of experiences from memory.\"\"\"\n",
    "        experiences = random.sample(self.memory, k=self.batch_size)\n",
    "\n",
    "        states = torch.from_numpy(np.vstack([e.state for e in experiences if e is not None])).float().to(device)\n",
    "        actions = torch.from_numpy(np.vstack([e.action for e in experiences if e is not None])).long().to(device)\n",
    "        rewards = torch.from_numpy(np.vstack([e.reward for e in experiences if e is not None])).float().to(device)\n",
    "        next_states = torch.from_numpy(np.vstack([e.next_state for e in experiences if e is not None])).float().to(device)\n",
    "        dones = torch.from_numpy(np.vstack([e.done for e in experiences if e is not None]).astype(np.uint8)).float().to(device)\n",
    "\n",
    "        return (states, actions, rewards, next_states, dones)\n",
    "\n",
    "    def __len__(self):\n",
    "        \"\"\"Return the current size of internal memory.\"\"\"\n",
    "        return len(self.memory)"
   ]
  },
  {
   "cell_type": "code",
   "execution_count": 17,
   "metadata": {},
   "outputs": [],
   "source": [
    "\"\"\"\n",
    "##################################################\n",
    "Agent Class\n",
    "Defines DQN Agent Methods\n",
    "Agent interacts with and learns from an environment.\n",
    "\"\"\"\n",
    "class Agent():\n",
    "\n",
    "    \"\"\"\n",
    "    Initialize Agent, inclduing:\n",
    "        DQN Hyperparameters\n",
    "        Local and Targat State-Action Policy Networks\n",
    "        Replay Memory Buffer from Replay Buffer Class (define below)\n",
    "    \"\"\"\n",
    "    def __init__(self, network, state_size=8, action_size=4, dqn_type='DQN', replay_memory_size=1e5, batch_size=64, gamma=0.99,\n",
    "    \tlearning_rate=5e-4, target_tau=1e-3, update_rate=4):\n",
    "        \n",
    "        \"\"\"\n",
    "        DQN Agent Parameters\n",
    "        ====== \n",
    "            state_size (int): dimension of each state\n",
    "            action_size (int): dimension of each action\n",
    "            dqn_type (string): can be either 'DQN' for vanillia dqn learning (default) or 'DDQN' for double-DQN.\n",
    "            replay_memory size (int): size of the replay memory buffer (typically 5e4 to 5e6)\n",
    "            batch_size (int): size of the memory batch used for model updates (typically 32, 64 or 128)\n",
    "            gamma (float): paramete for setting the discoun ted value of future rewards (typically .95 to .995)\n",
    "            learning_rate (float): specifies the rate of model learing (typically 1e-4 to 1e-3))\n",
    "            seed (int): random seed for initializing training point.\n",
    "        \"\"\"\n",
    "        self.network = network\n",
    "        self.dqn_type = dqn_type\n",
    "        self.state_size = state_size\n",
    "        self.action_size = action_size\n",
    "        self.buffer_size = int(replay_memory_size)\n",
    "        self.batch_size = batch_size\n",
    "        self.gamma = gamma\n",
    "        self.learn_rate = learning_rate\n",
    "        self.tau = target_tau\n",
    "        self.update_rate = update_rate\n",
    "        \n",
    "        \"\"\"\n",
    "        # DQN Agent Q-Network\n",
    "        # For DQN training, two nerual network models are employed;\n",
    "        # (a) A network that is updated every (step % update_rate == 0)\n",
    "        # (b) A target network, with weights updated to equal the network at a slower (target_tau) rate.\n",
    "        # The slower modulation of the target network weights operates to stablize learning.\n",
    "        \"\"\"\n",
    "        self.network = QNetwork().to(device)\n",
    "        self.target_network = QNetwork().to(device)\n",
    "        self.optimizer = optim.Adam(self.network.parameters(), lr=self.learn_rate)\n",
    "\n",
    "        # Replay memory\n",
    "        self.memory = ReplayBuffer(action_size, self.buffer_size, self.batch_size)\n",
    "\n",
    "        # Initialize time step (for updating every UPDATE_EVERY steps)\n",
    "        self.t_step = 0\n",
    "\n",
    "    ########################################################\n",
    "    # STEP() method\n",
    "    #\n",
    "    def step(self, state, action, reward, next_state, done):\n",
    "        # Save experience in replay memory\n",
    "        self.memory.add(state, action, reward, next_state, done)\n",
    "        \n",
    "        # Learn every UPDATE_EVERY time steps.\n",
    "        self.t_step = (self.t_step + 1) % self.update_rate\n",
    "        if self.t_step == 0:\n",
    "            # If enough samples are available in memory, get random subset and learn\n",
    "            if len(self.memory) > self.batch_size:\n",
    "                experiences = self.memory.sample()\n",
    "                self.learn(experiences, self.gamma)\n",
    "\n",
    "\n",
    "\t########################################################\n",
    "    # ACT() method\n",
    "    #\n",
    "    def act(self, state, eps=0.0):\n",
    "        \"\"\"Returns actions for given state as per current policy.\n",
    "        \n",
    "        Params\n",
    "        ======\n",
    "            state (array_like): current state\n",
    "            eps (float): epsilon, for epsilon-greedy action selection\n",
    "        \"\"\"\n",
    "        state = torch.from_numpy(state).float().unsqueeze(0).to(device)\n",
    "        self.network.eval()\n",
    "        with torch.no_grad():\n",
    "            action_values = self.network(state)\n",
    "        self.network.train()\n",
    "\n",
    "        # Epsilon-greedy action selection\n",
    "        if random.random() > eps:\n",
    "            return np.argmax(action_values.cpu().data.numpy())\n",
    "        else:\n",
    "            return random.choice(np.arange(self.action_size))\n",
    "\n",
    "\n",
    "\t########################################################\n",
    "    # LEARN() method\n",
    "    # Update value parameters using given batch of experience tuples.\n",
    "    def learn(self, experiences, gamma):\n",
    "        \n",
    "        \"\"\"\n",
    "        Params\n",
    "        ======\n",
    "            experiences (Tuple[torch.Variable]): tuple of (s, a, r, s', done) tuples \n",
    "            gamma (float): discount factor\n",
    "        \"\"\"\n",
    "\n",
    "        states, actions, rewards, next_states, dones = experiences\n",
    "\n",
    "        # Get Q values from current observations (s, a) using model nextwork\n",
    "        Qsa = self.network(states).gather(1, actions)\n",
    "\n",
    "        #Regular (Vanilla) DQN\n",
    "        #************************\n",
    "        # Get max Q values for (s',a') from target model\n",
    "        Qsa_prime_target_values = self.target_network(next_states).detach()\n",
    "        Qsa_prime_targets = Qsa_prime_target_values.max(1)[0].unsqueeze(1)        \n",
    "\n",
    "        \n",
    "        # Compute Q targets for current states \n",
    "        Qsa_targets = rewards + (gamma * Qsa_prime_targets * (1 - dones))\n",
    "        \n",
    "        # Compute loss (error)\n",
    "        loss = F.mse_loss(Qsa, Qsa_targets)\n",
    "\n",
    "        # Minimize the loss\n",
    "        self.optimizer.zero_grad()\n",
    "        loss.backward()\n",
    "        self.optimizer.step()\n",
    "\n",
    "        # ------------------- update target network ------------------- #\n",
    "        self.soft_update(self.network, self.target_network, self.tau)\n",
    "       \n",
    "    ########################################################\n",
    "    \"\"\"\n",
    "    Soft update model parameters.\n",
    "    θ_target = τ*θ_local + (1 - τ)*θ_target\n",
    "    \"\"\"\n",
    "    def soft_update(self, local_model, target_model, tau):\n",
    "        \"\"\"\n",
    "        Params\n",
    "        ======\n",
    "            local_model (PyTorch model): weights will be copied from\n",
    "            target_model (PyTorch model): weights will be copied to\n",
    "            tau (float): interpolation parameter \n",
    "        \"\"\"\n",
    "        for target_param, local_param in zip(target_model.parameters(), local_model.parameters()):\n",
    "            target_param.data.copy_(tau*local_param.data + (1.0-tau)*target_param.data)\n",
    "\n",
    "    ########################################################\n",
    "\n",
    "    def save(self, PATH): # You should not revise this\n",
    "        Agent_Dict = {\n",
    "            \"network\" : self.network.state_dict(),\n",
    "            \"optimizer\" : self.optimizer.state_dict()\n",
    "        }\n",
    "        torch.save(Agent_Dict, PATH)\n",
    "\n",
    "    def load(self, PATH): # You should not revise this\n",
    "        checkpoint = torch.load(PATH)\n",
    "        self.network.load_state_dict(checkpoint[\"network\"])\n",
    "        #如果要儲存過程或是中斷訓練後想繼續可以用喔 ^_^\n",
    "        self.optimizer.load_state_dict(checkpoint[\"optimizer\"])"
   ]
  },
  {
   "cell_type": "markdown",
   "metadata": {
    "id": "ynbqJrhIFTC3"
   },
   "source": [
    "再來，搭建一個簡單的 agent，並搭配上方的 policy network 來採取行動。\n",
    "這個 agent 能做到以下幾件事：\n",
    "- `learn()`：從記下來的 log probabilities 及 rewards 來更新 policy network。\n",
    "- `sample()`：從 environment 得到 observation 之後，利用 policy network 得出應該採取的行動。\n",
    "而此函式除了回傳抽樣出來的 action，也會回傳此次抽樣的 log probabilities。"
   ]
  },
  {
   "cell_type": "markdown",
   "metadata": {
    "id": "ehPlnTKyRZf9"
   },
   "source": [
    "最後，建立一個 network 和 agent，就可以開始進行訓練了。"
   ]
  },
  {
   "cell_type": "code",
   "execution_count": 18,
   "metadata": {},
   "outputs": [],
   "source": [
    "#from dqn_agent import Agent\n",
    "network = QNetwork()\n",
    "network = network.to(device)\n",
    "agent = Agent(network)"
   ]
  },
  {
   "cell_type": "markdown",
   "metadata": {
    "id": "ouv23glgf5Qt"
   },
   "source": [
    "## 訓練 Agent\n",
    "\n",
    "現在我們開始訓練 agent。\n",
    "透過讓 agent 和 environment 互動，我們記住每一組對應的 log probabilities 及 reward，並在成功登陸或者不幸墜毀後，回放這些「記憶」來訓練 policy network。"
   ]
  },
  {
   "cell_type": "code",
   "execution_count": 19,
   "metadata": {
    "colab": {
     "base_uri": "https://localhost:8080/",
     "height": 1000,
     "referenced_widgets": [
      "2acab9542fe64b979fa2ac2adb3f10a8",
      "f288c64b5ff748eb82178bf1de17934f",
      "de34e5b178f5470e98e0275102a65042",
      "c93cba301cac439ca56fb6b45bd1c4e4",
      "43c6ee720b674626ab3a869bda5dd6e3",
      "2465d2b109d34922a486341232d86ad6",
      "aa27187195be4da9874025395eac35eb",
      "02d196d4f9734f998455d92bd9300adb"
     ]
    },
    "id": "vg5rxBBaf38_",
    "outputId": "eae0c9f4-0efc-40fe-a29e-7f7194613f6d"
   },
   "outputs": [
    {
     "data": {
      "application/vnd.jupyter.widget-view+json": {
       "model_id": "ee8c6615206246f4acd0cfcce9723502",
       "version_major": 2,
       "version_minor": 0
      },
      "text/plain": [
       "  0%|          | 0/1800 [00:00<?, ?it/s]"
      ]
     },
     "metadata": {},
     "output_type": "display_data"
    }
   ],
   "source": [
    "agent.network.train()  # 訓練前，先確保 network 處在 training 模式\n",
    "EPISODE_PER_BATCH = 5  # 每蒐集 5 個 episodes 更新一次 agent\n",
    "NUM_BATCH = 1800        # 總共更新 400 次\n",
    "epsilon=1.0\n",
    "epsilon_min=0.01\n",
    "epsilon_decay=0.995\n",
    "avg_total_rewards, avg_final_rewards = [], []\n",
    "\n",
    "prg_bar = tqdm(range(NUM_BATCH))\n",
    "for batch in prg_bar:\n",
    "\n",
    "    log_probs, rewards = [], []\n",
    "    total_rewards, final_rewards = [], []\n",
    "\n",
    "    # 蒐集訓練資料\n",
    "    for episode in range(EPISODE_PER_BATCH):\n",
    "        state = env.reset()\n",
    "        total_reward, total_step = 0, 0\n",
    "        while True:\n",
    "            # boss : implement DQN\n",
    "            action = agent.act(state, epsilon)\n",
    "            next_state, reward, done, _ = env.step(action)\n",
    "            agent.step(state, action, reward, next_state, done)\n",
    "            state = next_state\n",
    "            total_reward += reward\n",
    "            total_step += 1\n",
    "            rewards.append(reward)\n",
    "            if done:\n",
    "                final_rewards.append(reward)\n",
    "                total_rewards.append(total_reward)\n",
    "                break\n",
    "        epsilon = max(epsilon_min, epsilon_decay*epsilon)\n",
    "   \n",
    "    # 紀錄訓練過程\n",
    "    avg_total_reward = sum(total_rewards) / len(total_rewards)\n",
    "    avg_final_reward = sum(final_rewards) / len(final_rewards)\n",
    "    avg_total_rewards.append(avg_total_reward)\n",
    "    avg_final_rewards.append(avg_final_reward)\n",
    "    prg_bar.set_description(f\"Total: {avg_total_reward: 4.1f}, Final: {avg_final_reward: 4.1f}\")\n",
    "\n",
    "    # 更新網路\n",
    "    #rewards = np.concatenate(rewards, axis=0)\n",
    "    rewards = (rewards - np.mean(rewards)) / (np.std(rewards) + 1e-9)  # 將 reward 正規標準化\n"
   ]
  },
  {
   "cell_type": "markdown",
   "metadata": {
    "id": "vNb_tuFYhKVK"
   },
   "source": [
    "### 訓練結果\n",
    "\n",
    "訓練過程中，我們持續記下了 `avg_total_reward`，這個數值代表的是：每次更新 policy network 前，我們讓 agent 玩數個回合（episodes），而這些回合的平均 total rewards 為何。\n",
    "理論上，若是 agent 一直在進步，則所得到的 `avg_total_reward` 也會持續上升，直至 250 上下。\n",
    "若將其畫出來則結果如下："
   ]
  },
  {
   "cell_type": "code",
   "execution_count": 20,
   "metadata": {
    "colab": {
     "base_uri": "https://localhost:8080/",
     "height": 281
    },
    "id": "wZYOI8H10SHN",
    "outputId": "80307382-3743-4f70-e08a-66c5e92451da"
   },
   "outputs": [
    {
     "data": {
      "image/png": "[encoded data removed]",
      "text/plain": [
       "<Figure size 432x288 with 1 Axes>"
      ]
     },
     "metadata": {
      "needs_background": "light"
     },
     "output_type": "display_data"
    }
   ],
   "source": [
    "end = time.time()\n",
    "plt.plot(avg_total_rewards)\n",
    "plt.title(\"Total Rewards\")\n",
    "plt.show()"
   ]
  },
  {
   "cell_type": "markdown",
   "metadata": {
    "id": "mV5jj4dThz0Y"
   },
   "source": [
    "另外，`avg_final_reward` 代表的是多個回合的平均 final rewards，而 final reward 即是 agent 在單一回合中拿到的最後一個 reward。\n",
    "如果同學們還記得環境給予登月小艇 reward 的方式，便會知道，不論**回合的最後**小艇是不幸墜毀、飛出畫面、或是靜止在地面上，都會受到額外地獎勵或處罰。\n",
    "也因此，final reward 可被用來觀察 agent 的「著地」是否順利等資訊。"
   ]
  },
  {
   "cell_type": "code",
   "execution_count": 21,
   "metadata": {
    "colab": {
     "base_uri": "https://localhost:8080/",
     "height": 281
    },
    "id": "txDZ5vlGWz5w",
    "outputId": "bc284774-255a-45ac-dabf-3dfb5e1e5565"
   },
   "outputs": [
    {
     "data": {
      "image/png": "[encoded data removed]",
      "text/plain": [
       "<Figure size 432x288 with 1 Axes>"
      ]
     },
     "metadata": {
      "needs_background": "light"
     },
     "output_type": "display_data"
    }
   ],
   "source": [
    "plt.plot(avg_final_rewards)\n",
    "plt.title(\"Final Rewards\")\n",
    "plt.show()\n"
   ]
  },
  {
   "cell_type": "markdown",
   "metadata": {
    "id": "gyT7tNwkVdS-"
   },
   "source": [
    "訓練時間\n"
   ]
  },
  {
   "cell_type": "code",
   "execution_count": 22,
   "metadata": {
    "colab": {
     "base_uri": "https://localhost:8080/"
    },
    "id": "_t-JsKxUViFy",
    "outputId": "333aa287-0455-4028-b91c-f83c8d2e1b57"
   },
   "outputs": [
    {
     "name": "stdout",
     "output_type": "stream",
     "text": [
      "total time is 4850.660799503326 sec\n"
     ]
    }
   ],
   "source": [
    "print(f\"total time is {end-start} sec\")"
   ]
  },
  {
   "cell_type": "markdown",
   "metadata": {
    "id": "u2HaGRVEYGQS"
   },
   "source": [
    "## 測試"
   ]
  },
  {
   "cell_type": "code",
   "execution_count": 23,
   "metadata": {},
   "outputs": [
    {
     "data": {
      "image/png": "[encoded data removed]",
      "text/plain": [
       "<Figure size 432x288 with 1 Axes>"
      ]
     },
     "metadata": {
      "needs_background": "light"
     },
     "output_type": "display_data"
    }
   ],
   "source": [
    "env.reset()\n",
    "\n",
    "img = plt.imshow(env.render(mode='rgb_array'))\n",
    "\n",
    "done = False\n",
    "while not done:\n",
    "    action = env.action_space.sample()\n",
    "    observation, reward, done, _ = env.step(action)\n",
    "\n",
    "    img.set_data(env.render(mode='rgb_array'))\n",
    "    display.display(plt.gcf())\n",
    "    display.clear_output(wait=True)"
   ]
  },
  {
   "cell_type": "code",
   "execution_count": 24,
   "metadata": {
    "colab": {
     "base_uri": "https://localhost:8080/",
     "height": 500
    },
    "id": "5yFuUKKRYH73",
    "outputId": "7901d4d3-a71b-468e-a12e-6bd9edff551e"
   },
   "outputs": [
    {
     "name": "stdout",
     "output_type": "stream",
     "text": [
      "243.90436694519786\n",
      "length of actions is  297\n"
     ]
    },
    {
     "data": {
      "image/png": "[encoded data removed]",
      "text/plain": [
       "<Figure size 432x288 with 1 Axes>"
      ]
     },
     "metadata": {
      "needs_background": "light"
     },
     "output_type": "display_data"
    }
   ],
   "source": [
    "fix(env, seed)\n",
    "agent.network.eval()  # 測試前先將 network 切換為 evaluation 模式\n",
    "NUM_OF_TEST = 5 # Do not revise it !!!!!\n",
    "test_total_reward = []\n",
    "action_list = []\n",
    "for i in range(NUM_OF_TEST):\n",
    "  actions = []\n",
    "  state = env.reset()\n",
    "\n",
    "  img = plt.imshow(env.render(mode='rgb_array'))\n",
    "\n",
    "  total_reward = 0\n",
    "\n",
    "  done = False\n",
    "  while not done:\n",
    "      action = agent.act(state, epsilon)\n",
    "      actions.append(action)\n",
    "      state, reward, done, _ = env.step(action)\n",
    "      total_reward += reward\n",
    "\n",
    "      img.set_data(env.render(mode='rgb_array'))\n",
    "      display.display(plt.gcf())\n",
    "      display.clear_output(wait=True)\n",
    "  print(total_reward)\n",
    "  test_total_reward.append(total_reward)\n",
    "\n",
    "  action_list.append(actions) #儲存你測試的結果\n",
    "  print(\"length of actions is \", len(actions))"
   ]
  },
  {
   "cell_type": "code",
   "execution_count": 25,
   "metadata": {
    "colab": {
     "base_uri": "https://localhost:8080/"
    },
    "id": "Aex7mcKr0J01",
    "outputId": "f1706a79-1fbd-4d61-bdcd-ab257cb152e5"
   },
   "outputs": [
    {
     "name": "stdout",
     "output_type": "stream",
     "text": [
      "Your final reward is : 254.27\n"
     ]
    }
   ],
   "source": [
    "print(f\"Your final reward is : %.2f\"%np.mean(test_total_reward))"
   ]
  },
  {
   "cell_type": "markdown",
   "metadata": {
    "id": "leyebGYRpqsF"
   },
   "source": [
    "Action list 的長相"
   ]
  },
  {
   "cell_type": "code",
   "execution_count": 26,
   "metadata": {
    "colab": {
     "base_uri": "https://localhost:8080/"
    },
    "id": "hGAH4YWDpp4u",
    "outputId": "c7f5fa21-7b7a-43a8-8478-df76dce7a4ad"
   },
   "outputs": [
    {
     "name": "stdout",
     "output_type": "stream",
     "text": [
      "Action list looks like  [[1, 1, 1, 1, 1, 1, 0, 1, 3, 1, 3, 2, 2, 2, 3, 2, 1, 2, 3, 2, 2, 3, 2, 2, 0, 2, 0, 2, 0, 2, 0, 2, 2, 3, 0, 2, 0, 2, 2, 0, 2, 2, 0, 2, 0, 2, 2, 2, 3, 0, 2, 2, 3, 2, 2, 2, 3, 0, 2, 0, 2, 3, 2, 0, 0, 2, 3, 0, 2, 2, 0, 0, 2, 3, 2, 0, 2, 2, 0, 0, 2, 3, 2, 0, 2, 0, 2, 3, 2, 2, 0, 2, 0, 2, 0, 2, 2, 2, 3, 2, 2, 0, 2, 0, 2, 2, 2, 0, 2, 2, 3, 1, 2, 2, 3, 2, 2, 2, 1, 2, 2, 3, 2, 2, 2, 2, 1, 2, 1, 2, 3, 2, 2, 2, 1, 2, 2, 1, 3, 2, 1, 2, 2, 1, 2, 3, 2, 2, 1, 2, 2, 2, 1, 2, 3, 2, 1, 2, 3, 1, 2, 3, 2, 1, 2, 2, 2, 2, 1, 2, 3, 3, 2, 2, 1, 2, 2, 2, 1, 2, 2, 1, 2, 3, 2, 1, 2, 2, 3, 2, 2, 1, 3, 2, 1, 2, 3, 2, 1, 2, 2, 3, 2, 1, 2, 3, 2, 2, 2, 3, 2, 1, 2, 2, 3, 3, 2, 0, 0, 0, 0, 0, 0, 0, 0, 0, 0, 0, 0, 0, 0, 0, 0, 0, 0, 0, 0, 0, 0, 0, 0, 0, 0, 0, 0, 0, 0, 0, 0, 0, 0, 0, 0, 0, 0], [3, 0, 0, 3, 3, 0, 0, 0, 1, 1, 3, 1, 2, 2, 1, 2, 3, 2, 2, 1, 2, 3, 1, 2, 3, 2, 2, 1, 2, 2, 3, 2, 1, 2, 2, 2, 2, 3, 1, 2, 2, 1, 2, 3, 2, 2, 2, 2, 2, 2, 3, 1, 2, 2, 3, 1, 2, 2, 2, 3, 2, 1, 2, 3, 2, 1, 2, 1, 2, 3, 2, 1, 2, 2, 2, 3, 2, 1, 2, 3, 2, 2, 2, 3, 1, 2, 3, 2, 2, 1, 2, 2, 3, 1, 2, 3, 2, 1, 2, 3, 1, 2, 2, 3, 2, 1, 2, 2, 2, 3, 2, 2, 2, 3, 2, 1, 2, 2, 3, 2, 1, 2, 2, 3, 2, 0, 1, 2, 2, 3, 2, 2, 2, 2, 0, 2, 2, 0, 2, 0, 2, 0, 2, 0, 2, 0, 2, 0, 2, 0, 2, 0, 2, 1, 2, 3, 2, 1, 2, 2, 3, 2, 2, 1, 2, 2, 2, 2, 1, 2, 3, 2, 1, 2, 3, 1, 2, 2, 3, 1, 2, 2, 2, 2, 2, 3, 2, 1, 2, 3, 2, 1, 2, 0, 2, 2, 2, 3, 1, 2, 3, 2, 1, 2, 2, 1, 3, 2, 2, 1, 2, 3, 2, 2, 1, 3, 2, 2, 2, 1, 1, 1, 1, 0, 0, 0, 0, 0, 0, 0, 0, 0, 0, 0, 0, 0, 0, 0, 0, 0, 0, 0, 0, 0, 0, 0, 0, 0, 0, 0, 0, 0, 0, 0, 0, 0, 0, 0, 0, 0, 0, 0, 0, 0, 0, 0, 0, 0, 0, 0, 0, 0, 0, 0, 0, 0, 0], [1, 1, 1, 1, 1, 2, 2, 2, 1, 2, 1, 2, 1, 2, 2, 0, 2, 2, 2, 2, 2, 0, 2, 0, 2, 2, 0, 2, 2, 2, 2, 2, 2, 2, 0, 2, 2, 0, 2, 2, 0, 2, 2, 2, 0, 2, 0, 2, 2, 2, 0, 2, 3, 2, 0, 2, 0, 2, 2, 3, 2, 0, 0, 2, 0, 2, 0, 2, 0, 3, 2, 0, 2, 0, 2, 2, 0, 3, 2, 0, 2, 0, 2, 0, 2, 0, 2, 0, 3, 2, 2, 2, 2, 2, 0, 2, 2, 2, 2, 2, 3, 2, 1, 2, 2, 3, 2, 2, 2, 1, 2, 2, 2, 2, 2, 3, 1, 2, 2, 1, 2, 2, 2, 2, 2, 2, 2, 1, 2, 2, 1, 2, 2, 3, 1, 2, 1, 2, 2, 2, 2, 2, 3, 1, 2, 1, 2, 1, 2, 2, 2, 1, 2, 2, 3, 1, 2, 3, 1, 2, 2, 3, 1, 2, 2, 2, 3, 1, 2, 3, 2, 1, 2, 2, 1, 2, 2, 3, 2, 2, 3, 2, 2, 1, 2, 3, 2, 1, 2, 2, 3, 1, 2, 2, 2, 3, 2, 2, 1, 2, 3, 2, 2, 1, 2, 3, 2, 1, 2, 3, 2, 1, 2, 3, 2, 2, 0, 0, 0, 0, 0, 0, 0, 0, 0, 0, 0, 0, 0, 0, 0, 0, 0, 0, 0, 0, 0, 0, 0, 0, 0, 0, 0, 0, 0, 0, 0], [1, 1, 0, 0, 1, 0, 0, 1, 0, 1, 0, 1, 0, 1, 3, 1, 3, 2, 2, 2, 0, 1, 2, 3, 2, 2, 1, 2, 3, 2, 2, 0, 2, 2, 0, 0, 2, 2, 3, 2, 2, 0, 0, 2, 0, 2, 3, 0, 2, 2, 0, 0, 2, 0, 2, 2, 3, 2, 0, 2, 0, 2, 0, 2, 2, 3, 0, 2, 2, 2, 3, 2, 0, 2, 2, 2, 3, 2, 2, 0, 2, 0, 2, 2, 0, 2, 3, 2, 0, 2, 0, 2, 0, 2, 2, 0, 2, 3, 2, 1, 2, 2, 3, 2, 1, 2, 3, 2, 1, 2, 2, 2, 2, 1, 2, 2, 2, 1, 3, 2, 2, 2, 2, 1, 2, 1, 2, 2, 1, 1, 2, 3, 2, 2, 2, 1, 3, 2, 2, 1, 2, 3, 2, 2, 1, 2, 2, 2, 1, 3, 2, 1, 2, 3, 1, 2, 2, 2, 1, 2, 2, 3, 2, 2, 1, 2, 2, 1, 2, 2, 3, 2, 2, 1, 2, 2, 3, 1, 2, 2, 2, 2, 1, 3, 2, 2, 1, 3, 2, 1, 2, 2, 1, 2, 2, 3, 2, 2, 2, 1, 3, 2, 2, 3, 2, 1, 2, 2, 3, 2, 2, 1, 3, 2, 2, 3, 2, 3, 0, 0, 0, 0, 0, 0, 0, 0, 0, 0, 0, 0, 0, 0, 0, 0, 0, 0, 0, 0, 0, 1, 0, 0, 0, 0, 0, 0, 0, 0, 0, 0, 0, 0, 0, 0, 0, 0, 0, 0, 0, 0, 0, 0, 0, 0, 0], [3, 3, 3, 3, 3, 3, 0, 0, 3, 1, 1, 1, 3, 1, 2, 2, 2, 1, 2, 2, 2, 2, 1, 2, 3, 2, 2, 1, 2, 2, 1, 2, 3, 2, 2, 2, 1, 2, 3, 1, 2, 1, 2, 3, 2, 2, 1, 2, 3, 2, 2, 2, 1, 2, 3, 1, 2, 3, 2, 1, 2, 3, 2, 1, 2, 2, 1, 2, 3, 2, 2, 1, 2, 3, 2, 1, 2, 3, 2, 2, 2, 2, 1, 2, 2, 2, 3, 2, 1, 2, 3, 2, 1, 2, 3, 1, 2, 2, 3, 1, 2, 3, 2, 2, 1, 0, 2, 2, 2, 2, 2, 3, 1, 2, 2, 3, 2, 0, 0, 2, 3, 2, 1, 2, 2, 2, 3, 1, 2, 3, 2, 0, 1, 2, 3, 2, 2, 2, 0, 2, 2, 0, 2, 0, 0, 2, 0, 2, 0, 2, 2, 2, 2, 2, 2, 2, 0, 0, 2, 2, 2, 1, 2, 3, 2, 2, 1, 2, 0, 2, 0, 2, 3, 1, 2, 2, 1, 3, 2, 2, 2, 1, 3, 2, 2, 3, 2, 1, 2, 3, 2, 2, 2, 1, 3, 2, 2, 0, 2, 2, 1, 2, 2, 1, 2, 3, 2, 2, 2, 2, 2, 1, 3, 2, 2, 2, 2, 1, 2, 3, 2, 2, 2, 2, 1, 2, 2, 3, 2, 1, 1, 1, 0, 0, 0, 0, 0, 0, 0, 0, 0, 0, 0, 0, 0, 0, 0, 0, 0, 0, 0, 0, 0, 0, 0, 0, 0, 0, 0, 0, 0, 0, 0, 0, 0, 0, 0, 0, 0, 2, 0, 0, 0, 0, 0, 0, 0, 0, 0, 0, 0, 0, 0, 0, 0, 0, 0, 0, 0, 0, 0, 0, 0, 0, 0, 0, 0]]\n",
      "Action list's shape looks like  (5,)\n"
     ]
    },
    {
     "name": "stderr",
     "output_type": "stream",
     "text": [
      "/home/godspeed/anaconda3/lib/python3.7/site-packages/numpy/core/_asarray.py:83: VisibleDeprecationWarning: Creating an ndarray from ragged nested sequences (which is a list-or-tuple of lists-or-tuples-or ndarrays with different lengths or shapes) is deprecated. If you meant to do this, you must specify 'dtype=object' when creating the ndarray\n",
      "  return array(a, dtype, copy=False, order=order)\n"
     ]
    }
   ],
   "source": [
    "print(\"Action list looks like \", action_list)\n",
    "print(\"Action list's shape looks like \", np.shape(action_list))"
   ]
  },
  {
   "cell_type": "markdown",
   "metadata": {
    "id": "l7sokqEUtrFY"
   },
   "source": [
    "Action 的分布\n"
   ]
  },
  {
   "cell_type": "code",
   "execution_count": 27,
   "metadata": {
    "colab": {
     "base_uri": "https://localhost:8080/"
    },
    "id": "WHdAItjj1nxw",
    "outputId": "5129773b-1f4a-4085-d2bf-3bc2abc2598c"
   },
   "outputs": [
    {
     "name": "stdout",
     "output_type": "stream",
     "text": [
      "{1: 191, 0: 351, 3: 172, 2: 627}\n"
     ]
    }
   ],
   "source": [
    "distribution = {}\n",
    "for actions in action_list:\n",
    "  for action in actions:\n",
    "    if action not in distribution.keys():\n",
    "      distribution[action] = 1\n",
    "    else:\n",
    "      distribution[action] += 1\n",
    "print(distribution)"
   ]
  },
  {
   "cell_type": "markdown",
   "metadata": {
    "id": "ricE0schY75M"
   },
   "source": [
    "儲存 Model Testing的結果\n"
   ]
  },
  {
   "cell_type": "code",
   "execution_count": 28,
   "metadata": {
    "colab": {
     "base_uri": "https://localhost:8080/"
    },
    "id": "GZsMkGmIY42b",
    "outputId": "8c55c932-4654-4f8c-f6b0-fa52ac3e8b96"
   },
   "outputs": [
    {
     "name": "stderr",
     "output_type": "stream",
     "text": [
      "/home/godspeed/anaconda3/lib/python3.7/site-packages/ipykernel_launcher.py:2: VisibleDeprecationWarning: Creating an ndarray from ragged nested sequences (which is a list-or-tuple of lists-or-tuples-or ndarrays with different lengths or shapes) is deprecated. If you meant to do this, you must specify 'dtype=object' when creating the ndarray\n",
      "  \n"
     ]
    }
   ],
   "source": [
    "PATH = \"Action_List_test.npy\" # 可以改成你想取的名字或路徑\n",
    "np.save(PATH ,np.array(action_list)) "
   ]
  },
  {
   "cell_type": "markdown",
   "metadata": {
    "id": "asK7WfbkaLjt"
   },
   "source": [
    "### 你要交到JudgeBoi的檔案94這個\n",
    "儲存結果到本地端 (就是你的電腦裡拉 = = )\n"
   ]
  },
  {
   "cell_type": "code",
   "execution_count": 29,
   "metadata": {
    "colab": {
     "base_uri": "https://localhost:8080/",
     "height": 17
    },
    "id": "c-CqyhHzaWAL",
    "outputId": "adfba5e6-a107-49aa-9f98-3c0655c5d6c2"
   },
   "outputs": [],
   "source": [
    "from google.colab import files\n",
    "files.download(PATH)"
   ]
  },
  {
   "cell_type": "markdown",
   "metadata": {
    "id": "seT4NUmWmAZ1"
   },
   "source": [
    "# Server 測試\n",
    "到時候下面會是我們Server上測試的環境，可以給大家看一下自己的表現如何"
   ]
  },
  {
   "cell_type": "code",
   "execution_count": 30,
   "metadata": {
    "colab": {
     "base_uri": "https://localhost:8080/",
     "height": 412
    },
    "id": "U69c-YTxaw6b",
    "outputId": "50015892-29ae-4665-c66f-880aecf7be8f"
   },
   "outputs": [
    {
     "name": "stdout",
     "output_type": "stream",
     "text": [
      "Your reward is : 257.57\n",
      "Your reward is : 236.91\n",
      "Your reward is : 291.05\n",
      "Your reward is : 241.94\n",
      "Your reward is : 243.90\n"
     ]
    },
    {
     "data": {
      "image/png": "[encoded data removed]",
      "text/plain": [
       "<Figure size 432x288 with 1 Axes>"
      ]
     },
     "metadata": {
      "needs_background": "light"
     },
     "output_type": "display_data"
    }
   ],
   "source": [
    "action_list = np.load(PATH,allow_pickle=True) #到時候你上傳的檔案\n",
    "seed = 543 #到時候測試的seed 請不要更改\n",
    "fix(env, seed)\n",
    "\n",
    "agent.network.eval()  # 測試前先將 network 切換為 evaluation 模式\n",
    "\n",
    "test_total_reward = []\n",
    "for actions in action_list:\n",
    "  state = env.reset()\n",
    "  img = plt.imshow(env.render(mode='rgb_array'))\n",
    "\n",
    "  total_reward = 0\n",
    "\n",
    "  done = False\n",
    "  # while not done:\n",
    "  done_count = 0\n",
    "  for action in actions:\n",
    "      state, reward, done, _ = env.step(action)\n",
    "      done_count += 1\n",
    "      total_reward += reward\n",
    "      if done:        \n",
    "        break\n",
    "        img.set_data(env.render(mode='rgb_array'))\n",
    "        display.display(plt.gcf())\n",
    "        display.clear_output(wait=True)\n",
    "  print(f\"Your reward is : %.2f\"%total_reward)\n",
    "  test_total_reward.append(total_reward)"
   ]
  },
  {
   "cell_type": "markdown",
   "metadata": {
    "id": "TjFBWwQP1hVe"
   },
   "source": [
    "# 你的成績"
   ]
  },
  {
   "cell_type": "code",
   "execution_count": 31,
   "metadata": {
    "colab": {
     "base_uri": "https://localhost:8080/"
    },
    "id": "GpJpZz3Wbm0X",
    "outputId": "f1b08157-bec6-4c5a-8021-482f719b4ade"
   },
   "outputs": [
    {
     "name": "stdout",
     "output_type": "stream",
     "text": [
      "Your final reward is : 254.27\n"
     ]
    }
   ],
   "source": [
    "print(f\"Your final reward is : %.2f\"%np.mean(test_total_reward))"
   ]
  },
  {
   "cell_type": "markdown",
   "metadata": {
    "id": "wUBtYXG2eaqf"
   },
   "source": [
    "## 參考資料\n",
    "\n",
    "以下是一些有用的參考資料。\n",
    "建議同學們實做前，可以先參考第一則連結的上課影片。\n",
    "在影片的最後有提到兩個有用的 Tips，這對於本次作業的實做非常有幫助。\n",
    "\n",
    "- [DRL Lecture 1: Policy Gradient (Review)](https://youtu.be/z95ZYgPgXOY)\n",
    "- [ML Lecture 23-3: Reinforcement Learning (including Q-learning) start at 30:00](https://youtu.be/2-JNBzCq77c?t=1800)\n",
    "- [Lecture 7: Policy Gradient, David Silver](http://www0.cs.ucl.ac.uk/staff/d.silver/web/Teaching_files/pg.pdf)\n"
   ]
  },
  {
   "cell_type": "markdown",
   "metadata": {
    "id": "cGqP2EU1joWM"
   },
   "source": []
  }
 ],
 "metadata": {
  "accelerator": "GPU",
  "colab": {
   "collapsed_sections": [],
   "name": "hw12_reinforcement_learning_chinese_version.ipynb",
   "provenance": []
  },
  "kernelspec": {
   "display_name": "Python 3",
   "language": "python",
   "name": "python3"
  },
  "language_info": {
   "codemirror_mode": {
    "name": "ipython",
    "version": 3
   },
   "file_extension": ".py",
   "mimetype": "text/x-python",
   "name": "python",
   "nbconvert_exporter": "python",
   "pygments_lexer": "ipython3",
   "version": "3.7.6"
  },
  "widgets": {
   "application/vnd.jupyter.widget-state+json": {
    "02d196d4f9734f998455d92bd9300adb": {
     "model_module": "@jupyter-widgets/base",
     "model_name": "LayoutModel",
     "state": {
      "_model_module": "@jupyter-widgets/base",
      "_model_module_version": "1.2.0",
      "_model_name": "LayoutModel",
      "_view_count": null,
      "_view_module": "@jupyter-widgets/base",
      "_view_module_version": "1.2.0",
      "_view_name": "LayoutView",
      "align_content": null,
      "align_items": null,
      "align_self": null,
      "border": null,
      "bottom": null,
      "display": null,
      "flex": null,
      "flex_flow": null,
      "grid_area": null,
      "grid_auto_columns": null,
      "grid_auto_flow": null,
      "grid_auto_rows": null,
      "grid_column": null,
      "grid_gap": null,
      "grid_row": null,
      "grid_template_areas": null,
      "grid_template_columns": null,
      "grid_template_rows": null,
      "height": null,
      "justify_content": null,
      "justify_items": null,
      "left": null,
      "margin": null,
      "max_height": null,
      "max_width": null,
      "min_height": null,
      "min_width": null,
      "object_fit": null,
      "object_position": null,
      "order": null,
      "overflow": null,
      "overflow_x": null,
      "overflow_y": null,
      "padding": null,
      "right": null,
      "top": null,
      "visibility": null,
      "width": null
     }
    },
    "2465d2b109d34922a486341232d86ad6": {
     "model_module": "@jupyter-widgets/base",
     "model_name": "LayoutModel",
     "state": {
      "_model_module": "@jupyter-widgets/base",
      "_model_module_version": "1.2.0",
      "_model_name": "LayoutModel",
      "_view_count": null,
      "_view_module": "@jupyter-widgets/base",
      "_view_module_version": "1.2.0",
      "_view_name": "LayoutView",
      "align_content": null,
      "align_items": null,
      "align_self": null,
      "border": null,
      "bottom": null,
      "display": null,
      "flex": null,
      "flex_flow": null,
      "grid_area": null,
      "grid_auto_columns": null,
      "grid_auto_flow": null,
      "grid_auto_rows": null,
      "grid_column": null,
      "grid_gap": null,
      "grid_row": null,
      "grid_template_areas": null,
      "grid_template_columns": null,
      "grid_template_rows": null,
      "height": null,
      "justify_content": null,
      "justify_items": null,
      "left": null,
      "margin": null,
      "max_height": null,
      "max_width": null,
      "min_height": null,
      "min_width": null,
      "object_fit": null,
      "object_position": null,
      "order": null,
      "overflow": null,
      "overflow_x": null,
      "overflow_y": null,
      "padding": null,
      "right": null,
      "top": null,
      "visibility": null,
      "width": null
     }
    },
    "2acab9542fe64b979fa2ac2adb3f10a8": {
     "model_module": "@jupyter-widgets/controls",
     "model_name": "HBoxModel",
     "state": {
      "_dom_classes": [],
      "_model_module": "@jupyter-widgets/controls",
      "_model_module_version": "1.5.0",
      "_model_name": "HBoxModel",
      "_view_count": null,
      "_view_module": "@jupyter-widgets/controls",
      "_view_module_version": "1.5.0",
      "_view_name": "HBoxView",
      "box_style": "",
      "children": [
       "IPY_MODEL_de34e5b178f5470e98e0275102a65042",
       "IPY_MODEL_c93cba301cac439ca56fb6b45bd1c4e4"
      ],
      "layout": "IPY_MODEL_f288c64b5ff748eb82178bf1de17934f"
     }
    },
    "43c6ee720b674626ab3a869bda5dd6e3": {
     "model_module": "@jupyter-widgets/controls",
     "model_name": "ProgressStyleModel",
     "state": {
      "_model_module": "@jupyter-widgets/controls",
      "_model_module_version": "1.5.0",
      "_model_name": "ProgressStyleModel",
      "_view_count": null,
      "_view_module": "@jupyter-widgets/base",
      "_view_module_version": "1.2.0",
      "_view_name": "StyleView",
      "bar_color": null,
      "description_width": "initial"
     }
    },
    "aa27187195be4da9874025395eac35eb": {
     "model_module": "@jupyter-widgets/controls",
     "model_name": "DescriptionStyleModel",
     "state": {
      "_model_module": "@jupyter-widgets/controls",
      "_model_module_version": "1.5.0",
      "_model_name": "DescriptionStyleModel",
      "_view_count": null,
      "_view_module": "@jupyter-widgets/base",
      "_view_module_version": "1.2.0",
      "_view_name": "StyleView",
      "description_width": ""
     }
    },
    "c93cba301cac439ca56fb6b45bd1c4e4": {
     "model_module": "@jupyter-widgets/controls",
     "model_name": "HTMLModel",
     "state": {
      "_dom_classes": [],
      "_model_module": "@jupyter-widgets/controls",
      "_model_module_version": "1.5.0",
      "_model_name": "HTMLModel",
      "_view_count": null,
      "_view_module": "@jupyter-widgets/controls",
      "_view_module_version": "1.5.0",
      "_view_name": "HTMLView",
      "description": "",
      "description_tooltip": null,
      "layout": "IPY_MODEL_02d196d4f9734f998455d92bd9300adb",
      "placeholder": "​",
      "style": "IPY_MODEL_aa27187195be4da9874025395eac35eb",
      "value": " 400/400 [11:02&lt;00:00,  1.66s/it]"
     }
    },
    "de34e5b178f5470e98e0275102a65042": {
     "model_module": "@jupyter-widgets/controls",
     "model_name": "FloatProgressModel",
     "state": {
      "_dom_classes": [],
      "_model_module": "@jupyter-widgets/controls",
      "_model_module_version": "1.5.0",
      "_model_name": "FloatProgressModel",
      "_view_count": null,
      "_view_module": "@jupyter-widgets/controls",
      "_view_module_version": "1.5.0",
      "_view_name": "ProgressView",
      "bar_style": "success",
      "description": "Total: -24.0, Final: -40.0: 100%",
      "description_tooltip": null,
      "layout": "IPY_MODEL_2465d2b109d34922a486341232d86ad6",
      "max": 400,
      "min": 0,
      "orientation": "horizontal",
      "style": "IPY_MODEL_43c6ee720b674626ab3a869bda5dd6e3",
      "value": 400
     }
    },
    "f288c64b5ff748eb82178bf1de17934f": {
     "model_module": "@jupyter-widgets/base",
     "model_name": "LayoutModel",
     "state": {
      "_model_module": "@jupyter-widgets/base",
      "_model_module_version": "1.2.0",
      "_model_name": "LayoutModel",
      "_view_count": null,
      "_view_module": "@jupyter-widgets/base",
      "_view_module_version": "1.2.0",
      "_view_name": "LayoutView",
      "align_content": null,
      "align_items": null,
      "align_self": null,
      "border": null,
      "bottom": null,
      "display": null,
      "flex": null,
      "flex_flow": null,
      "grid_area": null,
      "grid_auto_columns": null,
      "grid_auto_flow": null,
      "grid_auto_rows": null,
      "grid_column": null,
      "grid_gap": null,
      "grid_row": null,
      "grid_template_areas": null,
      "grid_template_columns": null,
      "grid_template_rows": null,
      "height": null,
      "justify_content": null,
      "justify_items": null,
      "left": null,
      "margin": null,
      "max_height": null,
      "max_width": null,
      "min_height": null,
      "min_width": null,
      "object_fit": null,
      "object_position": null,
      "order": null,
      "overflow": null,
      "overflow_x": null,
      "overflow_y": null,
      "padding": null,
      "right": null,
      "top": null,
      "visibility": null,
      "width": null
     }
    }
   }
  }
 },
 "nbformat": 4,
 "nbformat_minor": 1
}
