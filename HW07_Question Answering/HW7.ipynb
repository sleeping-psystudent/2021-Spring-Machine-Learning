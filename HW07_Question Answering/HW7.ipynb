{
  "nbformat": 4,
  "nbformat_minor": 0,
  "metadata": {
    "accelerator": "GPU",
    "colab": {
      "name": "hw7_bert-fp16-LTR.ipynb",
      "provenance": [],
      "collapsed_sections": []
    },
    "kernelspec": {
      "display_name": "Python 3",
      "language": "python",
      "name": "python3"
    },
    "language_info": {
      "codemirror_mode": {
        "name": "ipython",
        "version": 3
      },
      "file_extension": ".py",
      "mimetype": "text/x-python",
      "name": "python",
      "nbconvert_exporter": "python",
      "pygments_lexer": "ipython3",
      "version": "3.7.6"
    }
  },
  "cells": [
    {
      "cell_type": "markdown",
      "metadata": {
        "id": "xvSGDbExff_I"
      },
      "source": [
        "# **Homework 7 - Bert (Question Answering)**\n",
        "\n",
        "If you have any questions, feel free to email us at ntu-ml-2021spring-ta@googlegroups.com\n",
        "\n",
        "\n",
        "\n",
        "Slide:    [Link](https://docs.google.com/presentation/d/1aQoWogAQo_xVJvMQMrGaYiWzuyfO0QyLLAhiMwFyS2w)　Kaggle: [Link](https://www.kaggle.com/c/ml2021-spring-hw7)　Data: [Link](https://drive.google.com/uc?id=1znKmX08v9Fygp-dgwo7BKiLIf2qL1FH1)\n",
        "\n",
        "\n"
      ]
    },
    {
      "cell_type": "markdown",
      "metadata": {
        "id": "WGOr_eS3wJJf"
      },
      "source": [
        "## Task description\n",
        "- Chinese Extractive Question Answering\n",
        "  - Input: Paragraph + Question\n",
        "  - Output: Answer\n",
        "\n",
        "- Objective: Learn how to fine tune a pretrained model on downstream task using transformers\n",
        "\n",
        "- Todo\n",
        "    - Fine tune a pretrained chinese BERT model\n",
        "    - Change hyperparameters (e.g. doc_stride)\n",
        "    - Apply linear learning rate decay\n",
        "    - Try other pretrained models\n",
        "    - Improve preprocessing\n",
        "    - Improve postprocessing\n",
        "- Training tips\n",
        "    - Automatic mixed precision\n",
        "    - Gradient accumulation\n",
        "    - Ensemble\n",
        "\n",
        "- Estimated training time (tesla t4 with automatic mixed precision enabled)\n",
        "    - Simple: 8mins\n",
        "    - Medium: 8mins\n",
        "    - Strong: 25mins\n",
        "    - Boss: 2hrs\n",
        "  "
      ]
    },
    {
      "cell_type": "markdown",
      "metadata": {
        "id": "TJ1fSAJE2oaC"
      },
      "source": [
        "## Download Dataset"
      ]
    },
    {
      "cell_type": "code",
      "metadata": {
        "id": "YPrc4Eie9Yo5",
        "outputId": "90b36b3d-0e8d-4a5c-c208-2febbda9fa60"
      },
      "source": [
        "# Download link 1\n",
        "!gdown --id '1znKmX08v9Fygp-dgwo7BKiLIf2qL1FH1' --output hw7_data.zip\n",
        "\n",
        "# Download Link 2 (if the above link fails) \n",
        "# !gdown --id '1pOu3FdPdvzielUZyggeD7KDnVy9iW1uC' --output hw7_data.zip\n",
        "\n",
        "!unzip -o hw7_data.zip\n",
        "\n",
        "# For this HW, K80 < P4 < T4 < P100 <= T4(fp16) < V100\n",
        "!nvidia-smi"
      ],
      "execution_count": null,
      "outputs": [
        {
          "output_type": "stream",
          "text": [
            "Fri May 21 21:21:52 2021       \r\n",
            "+-----------------------------------------------------------------------------+\r\n",
            "| NVIDIA-SMI 460.67       Driver Version: 460.67       CUDA Version: 11.2     |\r\n",
            "|-------------------------------+----------------------+----------------------+\r\n",
            "| GPU  Name        Persistence-M| Bus-Id        Disp.A | Volatile Uncorr. ECC |\r\n",
            "| Fan  Temp  Perf  Pwr:Usage/Cap|         Memory-Usage | GPU-Util  Compute M. |\r\n",
            "|                               |                      |               MIG M. |\r\n",
            "|===============================+======================+======================|\r\n",
            "|   0  TITAN RTX           Off  | 00000000:08:00.0 Off |                  N/A |\r\n",
            "| 40%   32C    P8    14W / 280W |      1MiB / 24220MiB |     14%      Default |\r\n",
            "|                               |                      |                  N/A |\r\n",
            "+-------------------------------+----------------------+----------------------+\r\n",
            "                                                                               \r\n",
            "+-----------------------------------------------------------------------------+\r\n",
            "| Processes:                                                                  |\r\n",
            "|  GPU   GI   CI        PID   Type   Process name                  GPU Memory |\r\n",
            "|        ID   ID                                                   Usage      |\r\n",
            "|=============================================================================|\r\n",
            "|  No running processes found                                                 |\r\n",
            "+-----------------------------------------------------------------------------+\r\n"
          ],
          "name": "stdout"
        }
      ]
    },
    {
      "cell_type": "markdown",
      "metadata": {
        "id": "TevOvhC03m0h"
      },
      "source": [
        "## Install transformers\n",
        "\n",
        "Documentation for the toolkit:　https://huggingface.co/transformers/"
      ]
    },
    {
      "cell_type": "code",
      "metadata": {
        "id": "tbxWFX_jpDom"
      },
      "source": [
        "# You are allowed to change version of transformers or use other toolkits\n",
        "!pip install transformers==4.5.0"
      ],
      "execution_count": null,
      "outputs": []
    },
    {
      "cell_type": "markdown",
      "metadata": {
        "id": "8dKM4yCh4LI_"
      },
      "source": [
        "## Import Packages"
      ]
    },
    {
      "cell_type": "code",
      "metadata": {
        "id": "WOTHHtWJoahe"
      },
      "source": [
        "#First, I understand that I should use transformers.AdamW instead of \n",
        "#Pytorch's version of it. Also, we should use a warmup scheduler, \n",
        "#so the scheduler is created using get_linear_scheduler_with_warmup \n",
        "#function from transformers package.\n",
        "\n",
        "import json\n",
        "import numpy as np\n",
        "import random\n",
        "import torch\n",
        "from torch.utils.data import DataLoader, Dataset \n",
        "from transformers import AdamW, BertForQuestionAnswering, BertTokenizerFast\n",
        "from transformers import get_linear_schedule_with_warmup\n",
        "from tqdm.auto import tqdm\n",
        "\n",
        "device = \"cuda\" if torch.cuda.is_available() else \"cpu\"\n",
        "\n",
        "# Fix random seed for reproducibility\n",
        "def same_seeds(seed):\n",
        "\t  torch.manual_seed(seed)\n",
        "\t  if torch.cuda.is_available():\n",
        "\t\t    torch.cuda.manual_seed(seed)\n",
        "\t\t    torch.cuda.manual_seed_all(seed)\n",
        "\t  np.random.seed(seed)\n",
        "\t  random.seed(seed)\n",
        "\t  torch.backends.cudnn.benchmark = False\n",
        "\t  torch.backends.cudnn.deterministic = True\n",
        "same_seeds(110)"
      ],
      "execution_count": null,
      "outputs": []
    },
    {
      "cell_type": "code",
      "metadata": {
        "id": "7pBtSZP1SKQO"
      },
      "source": [
        "# Change \"fp16_training\" to True to support automatic mixed precision training (fp16)\t\n",
        "fp16_training = True\n",
        "\n",
        "if fp16_training:\n",
        "    !pip install accelerate==0.2.0\n",
        "    from accelerate import Accelerator\n",
        "    accelerator = Accelerator(fp16=True)\n",
        "    device = accelerator.device\n",
        "\n",
        "# Documentation for the toolkit:  https://huggingface.co/docs/accelerate/"
      ],
      "execution_count": null,
      "outputs": []
    },
    {
      "cell_type": "markdown",
      "metadata": {
        "id": "2YgXHuVLp_6j"
      },
      "source": [
        "## Load Model and Tokenizer\n",
        "\n",
        "\n",
        "\n",
        "\n",
        " "
      ]
    },
    {
      "cell_type": "code",
      "metadata": {
        "id": "xyBCYGjAp3ym",
        "colab": {
          "referenced_widgets": [
            "154ca885cdc049eb8e40b8f7e3cf3665",
            "aaa62c07b87245e9b886d148b725e939",
            "f8fb3d4cf3eb45deb276099c34a59bc6",
            "70c23e1655d54b22b095bc3278d6c49f",
            "b8fb4d1a6300457487f53061a1704b28",
            "5126d67ba56b41a19e2ffef6263f170e"
          ]
        },
        "outputId": "d8478829-0e63-45ba-be43-b6365be54d10"
      },
      "source": [
        "#Change Model\n",
        "model = BertForQuestionAnswering.from_pretrained('hfl/chinese-roberta-wwm-ext-large').to(device)\n",
        "tokenizer = BertTokenizerFast.from_pretrained('hfl/chinese-roberta-wwm-ext-large')\n",
        "# You can safely ignore the warning message (it pops up because new prediction heads for QA are initialized randomly)"
      ],
      "execution_count": null,
      "outputs": [
        {
          "output_type": "display_data",
          "data": {
            "application/vnd.jupyter.widget-view+json": {
              "model_id": "154ca885cdc049eb8e40b8f7e3cf3665",
              "version_major": 2,
              "version_minor": 0
            },
            "text/plain": [
              "Downloading:   0%|          | 0.00/1.31G [00:00<?, ?B/s]"
            ]
          },
          "metadata": {
            "tags": []
          }
        },
        {
          "output_type": "stream",
          "text": [
            "Some weights of the model checkpoint at hfl/chinese-roberta-wwm-ext-large were not used when initializing BertForQuestionAnswering: ['cls.predictions.bias', 'cls.predictions.transform.dense.weight', 'cls.predictions.transform.dense.bias', 'cls.predictions.transform.LayerNorm.weight', 'cls.predictions.transform.LayerNorm.bias', 'cls.predictions.decoder.weight', 'cls.seq_relationship.weight', 'cls.seq_relationship.bias']\n",
            "- This IS expected if you are initializing BertForQuestionAnswering from the checkpoint of a model trained on another task or with another architecture (e.g. initializing a BertForSequenceClassification model from a BertForPreTraining model).\n",
            "- This IS NOT expected if you are initializing BertForQuestionAnswering from the checkpoint of a model that you expect to be exactly identical (initializing a BertForSequenceClassification model from a BertForSequenceClassification model).\n",
            "Some weights of BertForQuestionAnswering were not initialized from the model checkpoint at hfl/chinese-roberta-wwm-ext-large and are newly initialized: ['qa_outputs.weight', 'qa_outputs.bias']\n",
            "You should probably TRAIN this model on a down-stream task to be able to use it for predictions and inference.\n"
          ],
          "name": "stderr"
        },
        {
          "output_type": "display_data",
          "data": {
            "application/vnd.jupyter.widget-view+json": {
              "model_id": "aaa62c07b87245e9b886d148b725e939",
              "version_major": 2,
              "version_minor": 0
            },
            "text/plain": [
              "Downloading:   0%|          | 0.00/110k [00:00<?, ?B/s]"
            ]
          },
          "metadata": {
            "tags": []
          }
        },
        {
          "output_type": "display_data",
          "data": {
            "application/vnd.jupyter.widget-view+json": {
              "model_id": "f8fb3d4cf3eb45deb276099c34a59bc6",
              "version_major": 2,
              "version_minor": 0
            },
            "text/plain": [
              "Downloading:   0%|          | 0.00/269k [00:00<?, ?B/s]"
            ]
          },
          "metadata": {
            "tags": []
          }
        },
        {
          "output_type": "display_data",
          "data": {
            "application/vnd.jupyter.widget-view+json": {
              "model_id": "70c23e1655d54b22b095bc3278d6c49f",
              "version_major": 2,
              "version_minor": 0
            },
            "text/plain": [
              "Downloading:   0%|          | 0.00/2.00 [00:00<?, ?B/s]"
            ]
          },
          "metadata": {
            "tags": []
          }
        },
        {
          "output_type": "display_data",
          "data": {
            "application/vnd.jupyter.widget-view+json": {
              "model_id": "b8fb4d1a6300457487f53061a1704b28",
              "version_major": 2,
              "version_minor": 0
            },
            "text/plain": [
              "Downloading:   0%|          | 0.00/112 [00:00<?, ?B/s]"
            ]
          },
          "metadata": {
            "tags": []
          }
        },
        {
          "output_type": "display_data",
          "data": {
            "application/vnd.jupyter.widget-view+json": {
              "model_id": "5126d67ba56b41a19e2ffef6263f170e",
              "version_major": 2,
              "version_minor": 0
            },
            "text/plain": [
              "Downloading:   0%|          | 0.00/19.0 [00:00<?, ?B/s]"
            ]
          },
          "metadata": {
            "tags": []
          }
        }
      ]
    },
    {
      "cell_type": "markdown",
      "metadata": {
        "id": "3Td-GTmk5OW4"
      },
      "source": [
        "## Read Data\n",
        "\n",
        "- Training set: 26935 QA pairs\n",
        "- Dev set: 3523  QA pairs\n",
        "- Test set: 3492  QA pairs\n",
        "\n",
        "- {train/dev/test}_questions:\t\n",
        "  - List of dicts with the following keys:\n",
        "   - id (int)\n",
        "   - paragraph_id (int)\n",
        "   - question_text (string)\n",
        "   - answer_text (string)\n",
        "   - answer_start (int)\n",
        "   - answer_end (int)\n",
        "- {train/dev/test}_paragraphs: \n",
        "  - List of strings\n",
        "  - paragraph_ids in questions correspond to indexs in paragraphs\n",
        "  - A paragraph may be used by several questions "
      ]
    },
    {
      "cell_type": "code",
      "metadata": {
        "id": "NvX7hlepogvu"
      },
      "source": [
        "def read_data(file):\n",
        "    with open(file, 'r', encoding=\"utf-8\") as reader:\n",
        "        data = json.load(reader)\n",
        "    return data[\"questions\"], data[\"paragraphs\"]\n",
        "\n",
        "train_questions, train_paragraphs = read_data(\"hw7_train.json\")\n",
        "dev_questions, dev_paragraphs = read_data(\"hw7_dev.json\")\n",
        "test_questions, test_paragraphs = read_data(\"hw7_test.json\")"
      ],
      "execution_count": null,
      "outputs": []
    },
    {
      "cell_type": "markdown",
      "metadata": {
        "id": "Fm0rpTHq0e4N"
      },
      "source": [
        "## Tokenize Data"
      ]
    },
    {
      "cell_type": "code",
      "metadata": {
        "id": "rTZ6B70Hoxie"
      },
      "source": [
        "# Tokenize questions and paragraphs separately\n",
        "# 「add_special_tokens」 is set to False since special tokens will be added when tokenized questions and paragraphs are combined in datset __getitem__ \n",
        "\n",
        "train_questions_tokenized = tokenizer([train_question[\"question_text\"] for train_question in train_questions], add_special_tokens=False)\n",
        "dev_questions_tokenized = tokenizer([dev_question[\"question_text\"] for dev_question in dev_questions], add_special_tokens=False)\n",
        "test_questions_tokenized = tokenizer([test_question[\"question_text\"] for test_question in test_questions], add_special_tokens=False) \n",
        "\n",
        "train_paragraphs_tokenized = tokenizer(train_paragraphs, add_special_tokens=False)\n",
        "dev_paragraphs_tokenized = tokenizer(dev_paragraphs, add_special_tokens=False)\n",
        "test_paragraphs_tokenized = tokenizer(test_paragraphs, add_special_tokens=False)\n",
        "\n",
        "# You can safely ignore the warning message as tokenized sequences will be futher processed in datset __getitem__ before passing to model"
      ],
      "execution_count": null,
      "outputs": []
    },
    {
      "cell_type": "markdown",
      "metadata": {
        "id": "Ws8c8_4d5UCI"
      },
      "source": [
        "## Dataset and Dataloader"
      ]
    },
    {
      "cell_type": "code",
      "metadata": {
        "id": "Xjooag-Swnuh"
      },
      "source": [
        "class QA_Dataset(Dataset):\n",
        "    def __init__(self, split, questions, tokenized_questions, tokenized_paragraphs):\n",
        "        self.split = split\n",
        "        self.questions = questions\n",
        "        self.tokenized_questions = tokenized_questions\n",
        "        self.tokenized_paragraphs = tokenized_paragraphs\n",
        "        self.max_question_len = 40\n",
        "        self.max_paragraph_len = 384\n",
        "        \n",
        "        ##### TODO: Change value of doc_stride #####\n",
        "        self.doc_stride = 128\n",
        "\n",
        "        # Input sequence length = [CLS] + question + [SEP] + paragraph + [SEP]\n",
        "        self.max_seq_len = 1 + self.max_question_len + 1 + self.max_paragraph_len + 1\n",
        "        assert self.max_seq_len <= 512 # 小於BERT-base長度限制  \n",
        "        \n",
        "    def __len__(self):\n",
        "        return len(self.questions)\n",
        "\n",
        "    def __getitem__(self, idx):\n",
        "        question = self.questions[idx]\n",
        "        tokenized_question = self.tokenized_questions[idx]\n",
        "        tokenized_paragraph = self.tokenized_paragraphs[question[\"paragraph_id\"]]\n",
        "        \n",
        "        ##### TODO: Preprocessing #####\n",
        "        # Hint: How to prevent model from learning something it should not learn\n",
        "        assert len(question) < self.max_question_len\n",
        "                            \n",
        "        #if self.split == \"train\" or self.split == \"dev\":\n",
        "        if self.split == \"train\":\n",
        "            # Convert answer's start/end positions in paragraph_text to start/end positions in tokenized_paragraph  \n",
        "            answer_start_token = tokenized_paragraph.char_to_token(question[\"answer_start\"])\n",
        "            answer_end_token = tokenized_paragraph.char_to_token(question[\"answer_end\"])\n",
        "                          \n",
        "            # A single window is obtained by slicing the portion of paragraph containing the answer\n",
        "            mid = (answer_start_token + answer_end_token) // 2\n",
        "            paragraph_start = max(0, min(mid - self.max_paragraph_len // 2, len(tokenized_paragraph) - self.max_paragraph_len))\n",
        "            paragraph_end = paragraph_start + self.max_paragraph_len\n",
        "            \n",
        "            # Slice question/paragraph and add special tokens (101: CLS, 102: SEP)\n",
        "            input_ids_question = [101] + tokenized_question.ids[:self.max_question_len] + [102] \n",
        "            input_ids_paragraph = tokenized_paragraph.ids[paragraph_start : paragraph_end] + [102]\t\t\n",
        "            \n",
        "            # Convert answer's start/end positions in tokenized_paragraph to start/end positions in the window  \n",
        "            answer_start_token += len(input_ids_question) - paragraph_start\n",
        "            answer_end_token += len(input_ids_question) - paragraph_start\n",
        "            \n",
        "            # Pad sequence and obtain inputs to model \n",
        "            input_ids, token_type_ids, attention_mask = self.padding(input_ids_question, input_ids_paragraph)\n",
        "            return torch.tensor(input_ids), torch.tensor(token_type_ids), torch.tensor(attention_mask), answer_start_token, answer_end_token\n",
        "\n",
        "        # Validation/Testing\n",
        "        else:\n",
        "        #if self.split == \"test\":\n",
        "            input_ids_list, token_type_ids_list, attention_mask_list = [], [], []\n",
        "            \n",
        "            # Paragraph is split into several windows, each with start positions separated by step \"doc_stride\"\n",
        "            for i in range(0, len(tokenized_paragraph), self.doc_stride):\n",
        "                \n",
        "                # Slice question/paragraph and add special tokens (101: CLS, 102: SEP)\n",
        "                input_ids_question = [101] + tokenized_question.ids[:self.max_question_len] + [102]\n",
        "                input_ids_paragraph = tokenized_paragraph.ids[i : i + self.max_paragraph_len] + [102]\n",
        "                \n",
        "                # Pad sequence and obtain inputs to model\n",
        "                input_ids, token_type_ids, attention_mask = self.padding(input_ids_question, input_ids_paragraph)\n",
        "                \n",
        "                input_ids_list.append(input_ids)\n",
        "                token_type_ids_list.append(token_type_ids)\n",
        "                attention_mask_list.append(attention_mask)\n",
        "            \n",
        "            return torch.tensor(input_ids_list), torch.tensor(token_type_ids_list), torch.tensor(attention_mask_list)\n",
        "\n",
        "    def padding(self, input_ids_question, input_ids_paragraph):\n",
        "        # Pad zeros if sequence length is shorter than max_seq_len\n",
        "        padding_len = self.max_seq_len - len(input_ids_question) - len(input_ids_paragraph)\n",
        "        # Indices of input sequence tokens in the vocabulary\n",
        "        input_ids = input_ids_question + input_ids_paragraph + [0] * padding_len\n",
        "        # Segment token indices to indicate first and second portions of the inputs. Indices are selected in [0, 1]\n",
        "        token_type_ids = [0] * len(input_ids_question) + [1] * len(input_ids_paragraph) + [0] * padding_len\n",
        "        # Mask to avoid performing attention on padding token indices. Mask values selected in [0, 1]\n",
        "        attention_mask = [1] * (len(input_ids_question) + len(input_ids_paragraph)) + [0] * padding_len\n",
        "        \n",
        "        return input_ids, token_type_ids, attention_mask\n",
        "\n",
        "train_set = QA_Dataset(\"train\", train_questions, train_questions_tokenized, train_paragraphs_tokenized)\n",
        "dev_set = QA_Dataset(\"dev\", dev_questions, dev_questions_tokenized, dev_paragraphs_tokenized)\n",
        "#train_set1 = train_set + dev_set\n",
        "test_set = QA_Dataset(\"test\", test_questions, test_questions_tokenized, test_paragraphs_tokenized)\n",
        "\n",
        "train_batch_size = 8\n",
        "\n",
        "# Note: Do NOT change batch size of dev_loader / test_loader !\n",
        "# Although batch size=1, it is actually a batch consisting of several windows from the same QA pair\n",
        "train_loader = DataLoader(train_set, batch_size=train_batch_size, shuffle=True, pin_memory=True)\n",
        "dev_loader = DataLoader(dev_set, batch_size=1, shuffle=False, pin_memory=True)\n",
        "test_loader = DataLoader(test_set, batch_size=1, shuffle=False, pin_memory=True)"
      ],
      "execution_count": null,
      "outputs": []
    },
    {
      "cell_type": "markdown",
      "metadata": {
        "id": "5_H1kqhR8CdM"
      },
      "source": [
        "## Function for Evaluation"
      ]
    },
    {
      "cell_type": "code",
      "metadata": {
        "id": "SqeA3PLPxOHu"
      },
      "source": [
        "def evaluate(data, output):\n",
        "    ##### TODO: Postprocessing #####\n",
        "    # There is a bug and room for improvement in postprocessing \n",
        "    # Hint: Open your prediction file to see what is wrong \n",
        "    max_answer_len = 30\n",
        "    answer = ''\n",
        "    max_prob = float('-inf')\n",
        "    num_of_windows = data[0].shape[1]\n",
        "    \n",
        "    for k in range(num_of_windows):\n",
        "        # Obtain answer by choosing the most probable start position / end position\n",
        "        start_prob, start_index = torch.max(output.start_logits[k], dim=0)\n",
        "        end_prob, end_index = torch.max(output.end_logits[k], dim=0)\n",
        "        \n",
        "        # Don't consider answers with a length that is either < 0 or > max_answer_length.\n",
        "        if end_index < start_index or end_index - start_index + 1 > max_answer_len:\n",
        "            continue\n",
        "       \n",
        "        # Probability of answer is calculated as sum of start_prob and end_prob\n",
        "        prob = start_prob + end_prob\n",
        "        \n",
        "        # Replace answer if calculated probability is larger than previous windows\n",
        "        if prob > max_prob:\n",
        "            max_prob = prob\n",
        "            # Convert tokens to chars (e.g. [1920, 7032] --> \"大 金\")\n",
        "            answer = tokenizer.decode(data[0][0][k][start_index : end_index + 1])            \n",
        "\n",
        "    # Remove spaces in answer (e.g. \"大 金\" --> \"大金\")\n",
        "    return answer.replace(' ','')"
      ],
      "execution_count": null,
      "outputs": []
    },
    {
      "cell_type": "markdown",
      "metadata": {
        "id": "rzHQit6eMnKG"
      },
      "source": [
        "## Training"
      ]
    },
    {
      "cell_type": "code",
      "metadata": {
        "id": "3Q-B6ka7xoCM",
        "colab": {
          "referenced_widgets": [
            "ec6b5cb6b0de4e16920930a38c6c23aa",
            "465854660430411a85ad2c7b23f5c962",
            "c0a7c2e608554d50be289cbbd4e96abe",
            "ce63bb37e4f34c2cb855eaa023819abd",
            "565367e5f73a4535b956ca7d10e031e3",
            "8b307cd535f24ed28280822b0dcd3346",
            "fbb7d0b1d6504999b8c51a21b7fe8ee2",
            "c0104bc348ce45dd8b1cfe295ffbb072"
          ]
        },
        "outputId": "8ce317ac-de8e-4029-fa7a-4ecf23fcd227"
      },
      "source": [
        "num_epoch = 4 \n",
        "validation = True\n",
        "logging_step = 100\n",
        "learning_rate = 3e-5\n",
        "optimizer = AdamW(model.parameters(), lr=learning_rate)\n",
        "total_steps = len(train_loader) * num_epoch \n",
        "lr_scheduler = get_linear_schedule_with_warmup(optimizer, \n",
        "                                           num_warmup_steps = 1000, \n",
        "                                           num_training_steps = total_steps)      \n",
        "\n",
        "if fp16_training:\n",
        "    model, optimizer, train_loader = accelerator.prepare(model, optimizer, train_loader) \n",
        "\n",
        "model.train()\n",
        "\n",
        "print(\"Start Training ...\")\n",
        "\n",
        "for epoch in range(num_epoch):\n",
        "    step = 1\n",
        "    train_loss = train_acc = 0\n",
        "    \n",
        "    for data in tqdm(train_loader):                  \n",
        "        # Load all data into GPU\n",
        "        data = [i.to(device) for i in data]\n",
        "        \n",
        "        # Model inputs: input_ids, token_type_ids, attention_mask, start_positions, end_positions (Note: only \"input_ids\" is mandatory)\n",
        "        # Model outputs: start_logits, end_logits, loss (return when start_positions/end_positions are provided)  \n",
        "        output = model(input_ids=data[0], \n",
        "                       token_type_ids=data[1], \n",
        "                       attention_mask=data[2], \n",
        "                       start_positions=data[3], \n",
        "                       end_positions=data[4])\n",
        "\n",
        "        # Choose the most probable start position / end position\n",
        "        start_index = torch.argmax(output.start_logits, dim=1)\n",
        "        end_index = torch.argmax(output.end_logits, dim=1)\n",
        "        \n",
        "        # Prediction is correct only if both start_index and end_index are correct\n",
        "        train_acc += ((start_index == data[3]) & (end_index == data[4])).float().mean()\n",
        "        train_loss += output.loss\n",
        "        \n",
        "        if fp16_training:\n",
        "            accelerator.backward(output.loss)\n",
        "        else:\n",
        "            output.loss.backward()\n",
        "        \n",
        "        optimizer.step()\n",
        "        lr_scheduler.step()\n",
        "        curr_lr = lr_scheduler.get_last_lr() \n",
        "        optimizer.zero_grad()\n",
        "        step += 1\n",
        "               \n",
        "        # Print training loss and accuracy over past logging step\n",
        "        if step % logging_step == 0:\n",
        "            print(f\"Epoch {epoch + 1} | Step {step} | loss = {train_loss.item() / logging_step:.3f}, acc = {train_acc / logging_step:.3f}, lr = {curr_lr[0] / logging_step:.10f}\")\n",
        "            train_loss = train_acc = 0\n",
        "\n",
        "    if validation:\n",
        "        print(\"Evaluating Dev Set ...\")\n",
        "        model.eval()\n",
        "        with torch.no_grad():\n",
        "            dev_acc = 0\n",
        "            for i, data in enumerate(tqdm(dev_loader)):\n",
        "                output = model(input_ids=data[0].squeeze(dim=0).to(device), token_type_ids=data[1].squeeze(dim=0).to(device),\n",
        "                       attention_mask=data[2].squeeze(dim=0).to(device))\n",
        "                # prediction is correct only if answer text exactly matches\n",
        "                dev_acc += evaluate(data, output) == dev_questions[i][\"answer_text\"]\n",
        "            print(f\"Validation | Epoch {epoch + 1} | acc = {dev_acc / len(dev_loader):.3f}\")\n",
        "        model.train()\n",
        "\n",
        "# Save a model and its configuration file to the directory 「saved_model」 \n",
        "# i.e. there are two files under the direcory 「saved_model」: 「pytorch_model.bin」 and 「config.json」\n",
        "# Saved model can be re-loaded using 「model = BertForQuestionAnswering.from_pretrained(\"saved_model\")」\n",
        "print(\"Saving Model ...\")\n",
        "model_save_dir = \"/home/godspeed/Downloads/ml2021hw7/saved_model\" \n",
        "model.save_pretrained(model_save_dir)"
      ],
      "execution_count": null,
      "outputs": [
        {
          "output_type": "stream",
          "text": [
            "Start Training ...\n"
          ],
          "name": "stdout"
        },
        {
          "output_type": "display_data",
          "data": {
            "application/vnd.jupyter.widget-view+json": {
              "model_id": "ec6b5cb6b0de4e16920930a38c6c23aa",
              "version_major": 2,
              "version_minor": 0
            },
            "text/plain": [
              "  0%|          | 0/3367 [00:00<?, ?it/s]"
            ]
          },
          "metadata": {
            "tags": []
          }
        },
        {
          "output_type": "stream",
          "text": [
            "/home/godspeed/anaconda3/lib/python3.7/site-packages/torch/optim/lr_scheduler.py:134: UserWarning: Detected call of `lr_scheduler.step()` before `optimizer.step()`. In PyTorch 1.1.0 and later, you should call them in the opposite order: `optimizer.step()` before `lr_scheduler.step()`.  Failure to do this will result in PyTorch skipping the first value of the learning rate schedule. See more details at https://pytorch.org/docs/stable/optim.html#how-to-adjust-learning-rate\n",
            "  \"https://pytorch.org/docs/stable/optim.html#how-to-adjust-learning-rate\", UserWarning)\n"
          ],
          "name": "stderr"
        },
        {
          "output_type": "stream",
          "text": [
            "Epoch 1 | Step 100 | loss = 5.752, acc = 0.004, lr = 0.0000000297\n",
            "Epoch 1 | Step 200 | loss = 4.307, acc = 0.040, lr = 0.0000000597\n",
            "Epoch 1 | Step 300 | loss = 1.482, acc = 0.485, lr = 0.0000000897\n",
            "Epoch 1 | Step 400 | loss = 0.913, acc = 0.640, lr = 0.0000001197\n",
            "Epoch 1 | Step 500 | loss = 0.842, acc = 0.666, lr = 0.0000001497\n",
            "Epoch 1 | Step 600 | loss = 0.780, acc = 0.701, lr = 0.0000001797\n",
            "Epoch 1 | Step 700 | loss = 0.670, acc = 0.709, lr = 0.0000002097\n",
            "Epoch 1 | Step 800 | loss = 0.716, acc = 0.711, lr = 0.0000002397\n",
            "Epoch 1 | Step 900 | loss = 0.719, acc = 0.710, lr = 0.0000002697\n",
            "Epoch 1 | Step 1000 | loss = 0.662, acc = 0.736, lr = 0.0000002997\n",
            "Epoch 1 | Step 1100 | loss = 0.697, acc = 0.720, lr = 0.0000002976\n",
            "Epoch 1 | Step 1200 | loss = 0.677, acc = 0.719, lr = 0.0000002952\n",
            "Epoch 1 | Step 1300 | loss = 0.619, acc = 0.766, lr = 0.0000002928\n",
            "Epoch 1 | Step 1400 | loss = 0.576, acc = 0.749, lr = 0.0000002904\n",
            "Epoch 1 | Step 1500 | loss = 0.672, acc = 0.760, lr = 0.0000002880\n",
            "Epoch 1 | Step 1600 | loss = 0.550, acc = 0.774, lr = 0.0000002856\n",
            "Epoch 1 | Step 1700 | loss = 0.532, acc = 0.786, lr = 0.0000002832\n",
            "Epoch 1 | Step 1800 | loss = 0.616, acc = 0.751, lr = 0.0000002808\n",
            "Epoch 1 | Step 1900 | loss = 0.604, acc = 0.770, lr = 0.0000002784\n",
            "Epoch 1 | Step 2000 | loss = 0.620, acc = 0.746, lr = 0.0000002760\n",
            "Epoch 1 | Step 2100 | loss = 0.618, acc = 0.757, lr = 0.0000002736\n",
            "Epoch 1 | Step 2200 | loss = 0.551, acc = 0.777, lr = 0.0000002712\n",
            "Epoch 1 | Step 2300 | loss = 0.529, acc = 0.790, lr = 0.0000002687\n",
            "Epoch 1 | Step 2400 | loss = 0.576, acc = 0.769, lr = 0.0000002663\n",
            "Epoch 1 | Step 2500 | loss = 0.568, acc = 0.766, lr = 0.0000002639\n",
            "Epoch 1 | Step 2600 | loss = 0.704, acc = 0.729, lr = 0.0000002615\n",
            "Epoch 1 | Step 2700 | loss = 0.586, acc = 0.754, lr = 0.0000002591\n",
            "Epoch 1 | Step 2800 | loss = 0.606, acc = 0.760, lr = 0.0000002567\n",
            "Epoch 1 | Step 2900 | loss = 0.560, acc = 0.750, lr = 0.0000002543\n",
            "Epoch 1 | Step 3000 | loss = 0.571, acc = 0.762, lr = 0.0000002519\n",
            "Epoch 1 | Step 3100 | loss = 0.557, acc = 0.759, lr = 0.0000002495\n",
            "Epoch 1 | Step 3200 | loss = 0.559, acc = 0.749, lr = 0.0000002471\n",
            "Epoch 1 | Step 3300 | loss = 0.530, acc = 0.781, lr = 0.0000002447\n",
            "Evaluating Dev Set ...\n"
          ],
          "name": "stdout"
        },
        {
          "output_type": "display_data",
          "data": {
            "application/vnd.jupyter.widget-view+json": {
              "model_id": "465854660430411a85ad2c7b23f5c962",
              "version_major": 2,
              "version_minor": 0
            },
            "text/plain": [
              "  0%|          | 0/3524 [00:00<?, ?it/s]"
            ]
          },
          "metadata": {
            "tags": []
          }
        },
        {
          "output_type": "stream",
          "text": [
            "Validation | Epoch 1 | acc = 0.803\n"
          ],
          "name": "stdout"
        },
        {
          "output_type": "display_data",
          "data": {
            "application/vnd.jupyter.widget-view+json": {
              "model_id": "c0a7c2e608554d50be289cbbd4e96abe",
              "version_major": 2,
              "version_minor": 0
            },
            "text/plain": [
              "  0%|          | 0/3367 [00:00<?, ?it/s]"
            ]
          },
          "metadata": {
            "tags": []
          }
        },
        {
          "output_type": "stream",
          "text": [
            "Epoch 2 | Step 100 | loss = 0.294, acc = 0.860, lr = 0.0000002407\n",
            "Epoch 2 | Step 200 | loss = 0.239, acc = 0.875, lr = 0.0000002383\n",
            "Epoch 2 | Step 300 | loss = 0.319, acc = 0.876, lr = 0.0000002359\n",
            "Epoch 2 | Step 400 | loss = 0.313, acc = 0.861, lr = 0.0000002334\n",
            "Epoch 2 | Step 500 | loss = 0.314, acc = 0.842, lr = 0.0000002310\n",
            "Epoch 2 | Step 600 | loss = 0.322, acc = 0.851, lr = 0.0000002286\n",
            "Epoch 2 | Step 700 | loss = 0.292, acc = 0.873, lr = 0.0000002262\n",
            "Epoch 2 | Step 800 | loss = 0.254, acc = 0.874, lr = 0.0000002238\n",
            "Epoch 2 | Step 900 | loss = 0.338, acc = 0.856, lr = 0.0000002214\n",
            "Epoch 2 | Step 1000 | loss = 0.256, acc = 0.875, lr = 0.0000002190\n",
            "Epoch 2 | Step 1100 | loss = 0.238, acc = 0.875, lr = 0.0000002166\n",
            "Epoch 2 | Step 1200 | loss = 0.322, acc = 0.834, lr = 0.0000002142\n",
            "Epoch 2 | Step 1300 | loss = 0.309, acc = 0.868, lr = 0.0000002118\n",
            "Epoch 2 | Step 1400 | loss = 0.253, acc = 0.871, lr = 0.0000002094\n",
            "Epoch 2 | Step 1500 | loss = 0.308, acc = 0.870, lr = 0.0000002070\n",
            "Epoch 2 | Step 1600 | loss = 0.268, acc = 0.860, lr = 0.0000002046\n",
            "Epoch 2 | Step 1700 | loss = 0.314, acc = 0.856, lr = 0.0000002022\n",
            "Epoch 2 | Step 1800 | loss = 0.320, acc = 0.851, lr = 0.0000001998\n",
            "Epoch 2 | Step 1900 | loss = 0.335, acc = 0.836, lr = 0.0000001974\n",
            "Epoch 2 | Step 2000 | loss = 0.309, acc = 0.850, lr = 0.0000001949\n",
            "Epoch 2 | Step 2100 | loss = 0.278, acc = 0.865, lr = 0.0000001925\n",
            "Epoch 2 | Step 2200 | loss = 0.257, acc = 0.879, lr = 0.0000001901\n",
            "Epoch 2 | Step 2300 | loss = 0.281, acc = 0.862, lr = 0.0000001877\n",
            "Epoch 2 | Step 2400 | loss = 0.306, acc = 0.834, lr = 0.0000001853\n",
            "Epoch 2 | Step 2500 | loss = 0.263, acc = 0.864, lr = 0.0000001829\n",
            "Epoch 2 | Step 2600 | loss = 0.293, acc = 0.862, lr = 0.0000001805\n",
            "Epoch 2 | Step 2700 | loss = 0.342, acc = 0.846, lr = 0.0000001781\n",
            "Epoch 2 | Step 2800 | loss = 0.330, acc = 0.862, lr = 0.0000001757\n",
            "Epoch 2 | Step 2900 | loss = 0.291, acc = 0.864, lr = 0.0000001733\n",
            "Epoch 2 | Step 3000 | loss = 0.259, acc = 0.881, lr = 0.0000001709\n",
            "Epoch 2 | Step 3100 | loss = 0.282, acc = 0.877, lr = 0.0000001685\n",
            "Epoch 2 | Step 3200 | loss = 0.293, acc = 0.876, lr = 0.0000001661\n",
            "Epoch 2 | Step 3300 | loss = 0.299, acc = 0.856, lr = 0.0000001637\n",
            "Evaluating Dev Set ...\n"
          ],
          "name": "stdout"
        },
        {
          "output_type": "display_data",
          "data": {
            "application/vnd.jupyter.widget-view+json": {
              "model_id": "ce63bb37e4f34c2cb855eaa023819abd",
              "version_major": 2,
              "version_minor": 0
            },
            "text/plain": [
              "  0%|          | 0/3524 [00:00<?, ?it/s]"
            ]
          },
          "metadata": {
            "tags": []
          }
        },
        {
          "output_type": "stream",
          "text": [
            "Validation | Epoch 2 | acc = 0.820\n"
          ],
          "name": "stdout"
        },
        {
          "output_type": "display_data",
          "data": {
            "application/vnd.jupyter.widget-view+json": {
              "model_id": "565367e5f73a4535b956ca7d10e031e3",
              "version_major": 2,
              "version_minor": 0
            },
            "text/plain": [
              "  0%|          | 0/3367 [00:00<?, ?it/s]"
            ]
          },
          "metadata": {
            "tags": []
          }
        },
        {
          "output_type": "stream",
          "text": [
            "Epoch 3 | Step 100 | loss = 0.112, acc = 0.931, lr = 0.0000001596\n",
            "Epoch 3 | Step 200 | loss = 0.170, acc = 0.917, lr = 0.0000001572\n",
            "Epoch 3 | Step 300 | loss = 0.106, acc = 0.945, lr = 0.0000001548\n",
            "Epoch 3 | Step 400 | loss = 0.105, acc = 0.952, lr = 0.0000001524\n",
            "Epoch 3 | Step 500 | loss = 0.133, acc = 0.940, lr = 0.0000001500\n",
            "Epoch 3 | Step 600 | loss = 0.096, acc = 0.947, lr = 0.0000001476\n",
            "Epoch 3 | Step 700 | loss = 0.108, acc = 0.942, lr = 0.0000001452\n",
            "Epoch 3 | Step 800 | loss = 0.083, acc = 0.955, lr = 0.0000001428\n",
            "Epoch 3 | Step 900 | loss = 0.121, acc = 0.934, lr = 0.0000001404\n",
            "Epoch 3 | Step 1000 | loss = 0.109, acc = 0.947, lr = 0.0000001380\n",
            "Epoch 3 | Step 1100 | loss = 0.094, acc = 0.947, lr = 0.0000001356\n",
            "Epoch 3 | Step 1200 | loss = 0.077, acc = 0.965, lr = 0.0000001332\n",
            "Epoch 3 | Step 1300 | loss = 0.122, acc = 0.938, lr = 0.0000001308\n",
            "Epoch 3 | Step 1400 | loss = 0.116, acc = 0.942, lr = 0.0000001284\n",
            "Epoch 3 | Step 1500 | loss = 0.135, acc = 0.931, lr = 0.0000001260\n",
            "Epoch 3 | Step 1600 | loss = 0.136, acc = 0.926, lr = 0.0000001236\n",
            "Epoch 3 | Step 1700 | loss = 0.097, acc = 0.951, lr = 0.0000001212\n",
            "Epoch 3 | Step 1800 | loss = 0.105, acc = 0.945, lr = 0.0000001187\n",
            "Epoch 3 | Step 1900 | loss = 0.100, acc = 0.949, lr = 0.0000001163\n",
            "Epoch 3 | Step 2000 | loss = 0.144, acc = 0.920, lr = 0.0000001139\n",
            "Epoch 3 | Step 2100 | loss = 0.117, acc = 0.936, lr = 0.0000001115\n",
            "Epoch 3 | Step 2200 | loss = 0.104, acc = 0.944, lr = 0.0000001091\n",
            "Epoch 3 | Step 2300 | loss = 0.137, acc = 0.934, lr = 0.0000001067\n",
            "Epoch 3 | Step 2400 | loss = 0.092, acc = 0.946, lr = 0.0000001043\n",
            "Epoch 3 | Step 2500 | loss = 0.102, acc = 0.942, lr = 0.0000001019\n",
            "Epoch 3 | Step 2600 | loss = 0.103, acc = 0.949, lr = 0.0000000995\n",
            "Epoch 3 | Step 2700 | loss = 0.085, acc = 0.949, lr = 0.0000000971\n",
            "Epoch 3 | Step 2800 | loss = 0.116, acc = 0.938, lr = 0.0000000947\n",
            "Epoch 3 | Step 2900 | loss = 0.101, acc = 0.934, lr = 0.0000000923\n",
            "Epoch 3 | Step 3000 | loss = 0.121, acc = 0.939, lr = 0.0000000899\n",
            "Epoch 3 | Step 3100 | loss = 0.083, acc = 0.947, lr = 0.0000000875\n",
            "Epoch 3 | Step 3200 | loss = 0.089, acc = 0.957, lr = 0.0000000851\n",
            "Epoch 3 | Step 3300 | loss = 0.110, acc = 0.942, lr = 0.0000000827\n",
            "Evaluating Dev Set ...\n"
          ],
          "name": "stdout"
        },
        {
          "output_type": "display_data",
          "data": {
            "application/vnd.jupyter.widget-view+json": {
              "model_id": "8b307cd535f24ed28280822b0dcd3346",
              "version_major": 2,
              "version_minor": 0
            },
            "text/plain": [
              "  0%|          | 0/3524 [00:00<?, ?it/s]"
            ]
          },
          "metadata": {
            "tags": []
          }
        },
        {
          "output_type": "stream",
          "text": [
            "Validation | Epoch 3 | acc = 0.821\n"
          ],
          "name": "stdout"
        },
        {
          "output_type": "display_data",
          "data": {
            "application/vnd.jupyter.widget-view+json": {
              "model_id": "fbb7d0b1d6504999b8c51a21b7fe8ee2",
              "version_major": 2,
              "version_minor": 0
            },
            "text/plain": [
              "  0%|          | 0/3367 [00:00<?, ?it/s]"
            ]
          },
          "metadata": {
            "tags": []
          }
        },
        {
          "output_type": "stream",
          "text": [
            "Epoch 4 | Step 100 | loss = 0.030, acc = 0.974, lr = 0.0000000786\n",
            "Epoch 4 | Step 200 | loss = 0.040, acc = 0.975, lr = 0.0000000762\n",
            "Epoch 4 | Step 300 | loss = 0.031, acc = 0.987, lr = 0.0000000738\n",
            "Epoch 4 | Step 400 | loss = 0.027, acc = 0.989, lr = 0.0000000714\n",
            "Epoch 4 | Step 500 | loss = 0.051, acc = 0.974, lr = 0.0000000690\n",
            "Epoch 4 | Step 600 | loss = 0.030, acc = 0.979, lr = 0.0000000666\n",
            "Epoch 4 | Step 700 | loss = 0.020, acc = 0.989, lr = 0.0000000642\n",
            "Epoch 4 | Step 800 | loss = 0.042, acc = 0.975, lr = 0.0000000618\n",
            "Epoch 4 | Step 900 | loss = 0.027, acc = 0.984, lr = 0.0000000594\n",
            "Epoch 4 | Step 1000 | loss = 0.043, acc = 0.972, lr = 0.0000000570\n",
            "Epoch 4 | Step 1100 | loss = 0.023, acc = 0.985, lr = 0.0000000546\n",
            "Epoch 4 | Step 1200 | loss = 0.036, acc = 0.985, lr = 0.0000000522\n",
            "Epoch 4 | Step 1300 | loss = 0.024, acc = 0.989, lr = 0.0000000498\n",
            "Epoch 4 | Step 1400 | loss = 0.044, acc = 0.977, lr = 0.0000000474\n",
            "Epoch 4 | Step 1500 | loss = 0.029, acc = 0.980, lr = 0.0000000449\n",
            "Epoch 4 | Step 1600 | loss = 0.042, acc = 0.977, lr = 0.0000000425\n",
            "Epoch 4 | Step 1700 | loss = 0.036, acc = 0.982, lr = 0.0000000401\n",
            "Epoch 4 | Step 1800 | loss = 0.026, acc = 0.989, lr = 0.0000000377\n",
            "Epoch 4 | Step 1900 | loss = 0.039, acc = 0.981, lr = 0.0000000353\n",
            "Epoch 4 | Step 2000 | loss = 0.025, acc = 0.982, lr = 0.0000000329\n",
            "Epoch 4 | Step 2100 | loss = 0.028, acc = 0.987, lr = 0.0000000305\n",
            "Epoch 4 | Step 2200 | loss = 0.038, acc = 0.986, lr = 0.0000000281\n",
            "Epoch 4 | Step 2300 | loss = 0.034, acc = 0.980, lr = 0.0000000257\n",
            "Epoch 4 | Step 2400 | loss = 0.025, acc = 0.986, lr = 0.0000000233\n",
            "Epoch 4 | Step 2500 | loss = 0.042, acc = 0.986, lr = 0.0000000209\n",
            "Epoch 4 | Step 2600 | loss = 0.016, acc = 0.994, lr = 0.0000000185\n",
            "Epoch 4 | Step 2700 | loss = 0.019, acc = 0.986, lr = 0.0000000161\n",
            "Epoch 4 | Step 2800 | loss = 0.029, acc = 0.977, lr = 0.0000000137\n",
            "Epoch 4 | Step 2900 | loss = 0.024, acc = 0.985, lr = 0.0000000113\n",
            "Epoch 4 | Step 3000 | loss = 0.026, acc = 0.981, lr = 0.0000000089\n",
            "Epoch 4 | Step 3100 | loss = 0.028, acc = 0.985, lr = 0.0000000064\n",
            "Epoch 4 | Step 3200 | loss = 0.028, acc = 0.980, lr = 0.0000000040\n",
            "Epoch 4 | Step 3300 | loss = 0.028, acc = 0.989, lr = 0.0000000016\n",
            "Evaluating Dev Set ...\n"
          ],
          "name": "stdout"
        },
        {
          "output_type": "display_data",
          "data": {
            "application/vnd.jupyter.widget-view+json": {
              "model_id": "c0104bc348ce45dd8b1cfe295ffbb072",
              "version_major": 2,
              "version_minor": 0
            },
            "text/plain": [
              "  0%|          | 0/3524 [00:00<?, ?it/s]"
            ]
          },
          "metadata": {
            "tags": []
          }
        },
        {
          "output_type": "stream",
          "text": [
            "Validation | Epoch 4 | acc = 0.825\n",
            "Saving Model ...\n"
          ],
          "name": "stdout"
        }
      ]
    },
    {
      "cell_type": "markdown",
      "metadata": {
        "id": "kMmdLOKBMsdE"
      },
      "source": [
        "## Testing"
      ]
    },
    {
      "cell_type": "code",
      "metadata": {
        "id": "U5scNKC9xz0C",
        "colab": {
          "referenced_widgets": [
            "d7180ec5e0fb44599610ecb2f8ab7e07"
          ]
        },
        "outputId": "29ef77d2-c50a-490e-afe4-3e51ed64d0f5"
      },
      "source": [
        "print(\"Evaluating Test Set ...\")\n",
        "\n",
        "result = []\n",
        "\n",
        "model.eval()\n",
        "with torch.no_grad():\n",
        "    for data in tqdm(test_loader):\n",
        "        output = model(input_ids=data[0].squeeze(dim=0).to(device), token_type_ids=data[1].squeeze(dim=0).to(device),\n",
        "                       attention_mask=data[2].squeeze(dim=0).to(device))\n",
        "        result.append(evaluate(data, output))\n",
        "\n",
        "result_file = \"result.csv\"\n",
        "with open(result_file, 'w') as f:\t\n",
        "\t  f.write(\"ID,Answer\\n\")\n",
        "\t  for i, test_question in enumerate(test_questions):\n",
        "        # Replace commas in answers with empty strings (since csv is separated by comma)\n",
        "        # Answers in kaggle are processed in the same way\n",
        "\t\t    f.write(f\"{test_question['id']},{result[i].replace(',','')}\\n\")\n",
        "\n",
        "print(f\"Completed! Result is in {result_file}\")"
      ],
      "execution_count": null,
      "outputs": [
        {
          "output_type": "stream",
          "text": [
            "Evaluating Test Set ...\n"
          ],
          "name": "stdout"
        },
        {
          "output_type": "display_data",
          "data": {
            "application/vnd.jupyter.widget-view+json": {
              "model_id": "d7180ec5e0fb44599610ecb2f8ab7e07",
              "version_major": 2,
              "version_minor": 0
            },
            "text/plain": [
              "  0%|          | 0/3493 [00:00<?, ?it/s]"
            ]
          },
          "metadata": {
            "tags": []
          }
        },
        {
          "output_type": "stream",
          "text": [
            "Completed! Result is in /home/godspeed/Downloads/ml2021hw7/result.csv\n"
          ],
          "name": "stdout"
        }
      ]
    },
    {
      "cell_type": "code",
      "metadata": {
        "id": "U-eMN1DUxh5Q"
      },
      "source": [
        ""
      ],
      "execution_count": null,
      "outputs": []
    }
  ]
}
