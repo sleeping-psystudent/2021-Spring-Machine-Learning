{
  "nbformat": 4,
  "nbformat_minor": 0,
  "metadata": {
    "colab": {
      "name": "ML2021Spring - HW1.ipynb",
      "provenance": [],
      "collapsed_sections": []
    },
    "kernelspec": {
      "name": "python3",
      "display_name": "Python 3"
    },
    "accelerator": "GPU"
  },
  "cells": [
    {
      "cell_type": "markdown",
      "metadata": {
        "id": "mz0_QVkxCrX3"
      },
      "source": [
        "# **Homework 1: COVID-19 Cases Prediction **"
      ]
    },
    {
      "cell_type": "markdown",
      "metadata": {
        "id": "ZeZnPAiwDRWG"
      },
      "source": [
        "Author: Heng-Jui Chang\n",
        "\n",
        "Slides: https://github.com/ga642381/ML2021-Spring/blob/main/HW01/HW01.pdf  \n",
        "Video: TBA\n",
        "\n",
        "Objectives:\n",
        "* Solve a regression problem with deep neural networks (DNN).\n",
        "* Understand basic DNN training tips.\n",
        "* Get familiar with PyTorch.\n",
        "\n",
        "If any questions, please contact the TAs via TA hours, NTU COOL, or email.\n"
      ]
    },
    {
      "cell_type": "markdown",
      "metadata": {
        "id": "Jx3x1nDkG-Uy"
      },
      "source": [
        "# **Download Data**\n",
        "\n",
        "\n",
        "If the Google drive links are dead, you can download data from [kaggle](https://www.kaggle.com/c/ml2021spring-hw1/data), and upload data manually to the workspace."
      ]
    },
    {
      "cell_type": "code",
      "metadata": {
        "colab": {
          "base_uri": "https://localhost:8080/"
        },
        "id": "tMj55YDKG6ch",
        "outputId": "701d0e5f-64e5-4c9a-ab96-7b04202fe1ec"
      },
      "source": [
        "tr_path = 'covid.train.csv'  # path to training data\n",
        "tt_path = 'covid.test.csv'   # path to testing data\n",
        "\n",
        "!gdown --id '19CCyCgJrUxtvgZF53vnctJiOJ23T5mqF' --output covid.train.csv\n",
        "!gdown --id '1CE240jLm2npU-tdz81-oVKEF3T2yfT1O' --output covid.test.csv"
      ],
      "execution_count": 121,
      "outputs": [
        {
          "output_type": "stream",
          "text": [
            "Downloading...\n",
            "From: https://drive.google.com/uc?id=19CCyCgJrUxtvgZF53vnctJiOJ23T5mqF\n",
            "To: /content/covid.train.csv\n",
            "100% 2.00M/2.00M [00:00<00:00, 131MB/s]\n",
            "Downloading...\n",
            "From: https://drive.google.com/uc?id=1CE240jLm2npU-tdz81-oVKEF3T2yfT1O\n",
            "To: /content/covid.test.csv\n",
            "100% 651k/651k [00:00<00:00, 87.1MB/s]\n"
          ],
          "name": "stdout"
        }
      ]
    },
    {
      "cell_type": "markdown",
      "metadata": {
        "id": "wS_4-77xHk44"
      },
      "source": [
        "# **Import Some Packages**"
      ]
    },
    {
      "cell_type": "code",
      "metadata": {
        "id": "k-onQd4JNA5H"
      },
      "source": [
        "# PyTorch\n",
        "import torch\n",
        "import torch.nn as nn\n",
        "from torch.utils.data import Dataset, DataLoader\n",
        "\n",
        "# For data preprocess\n",
        "import numpy as np\n",
        "import csv\n",
        "import os\n",
        "\n",
        "import pandas as pd\n",
        "from sklearn import preprocessing\n",
        "\n",
        "# For plotting\n",
        "import matplotlib.pyplot as plt\n",
        "%matplotlib inline\n",
        "from matplotlib.pyplot import figure\n",
        "\n",
        "myseed = 102200  # set a random seed for reproducibility\n",
        "torch.backends.cudnn.deterministic = True\n",
        "torch.backends.cudnn.benchmark = False\n",
        "np.random.seed(myseed)\n",
        "torch.manual_seed(myseed)\n",
        "if torch.cuda.is_available():\n",
        "    torch.cuda.manual_seed_all(myseed)"
      ],
      "execution_count": 122,
      "outputs": []
    },
    {
      "cell_type": "markdown",
      "metadata": {
        "id": "BtE3b6JEH7rw"
      },
      "source": [
        "# **Some Utilities**\n",
        "\n",
        "You do not need to modify this part."
      ]
    },
    {
      "cell_type": "code",
      "metadata": {
        "id": "FWMT3uf1NGQp"
      },
      "source": [
        "def get_device():\n",
        "    ''' Get device (if GPU is available, use GPU) '''\n",
        "    return 'cuda' if torch.cuda.is_available() else 'cpu'\n",
        "\n",
        "def plot_learning_curve(loss_record, title=''):\n",
        "    ''' Plot learning curve of your DNN (train & dev loss) '''\n",
        "    total_steps = len(loss_record['train'])\n",
        "    x_1 = range(total_steps)\n",
        "    x_2 = x_1[::len(loss_record['train']) // len(loss_record['dev'])]\n",
        "    figure(figsize=(6, 4))\n",
        "    plt.plot(x_1, loss_record['train'], c='tab:red', label='train')\n",
        "    plt.plot(x_2, loss_record['dev'], c='tab:cyan', label='dev')\n",
        "    plt.ylim(0.0, 5.)\n",
        "    plt.xlabel('Training steps')\n",
        "    plt.ylabel('MSE loss')\n",
        "    plt.title('Learning curve of {}'.format(title))\n",
        "    plt.legend()\n",
        "    plt.show()\n",
        "\n",
        "\n",
        "def plot_pred(dv_set, model, device, lim=35., preds=None, targets=None):\n",
        "    ''' Plot prediction of your DNN '''\n",
        "    if preds is None or targets is None:\n",
        "        model.eval()\n",
        "        preds, targets = [], []\n",
        "        for x, y in dv_set:\n",
        "            x, y = x.to(device), y.to(device)\n",
        "            with torch.no_grad():\n",
        "                pred = model(x)\n",
        "                preds.append(pred.detach().cpu())\n",
        "                targets.append(y.detach().cpu())\n",
        "        preds = torch.cat(preds, dim=0).numpy()\n",
        "        targets = torch.cat(targets, dim=0).numpy()\n",
        "\n",
        "    figure(figsize=(5, 5))\n",
        "    plt.scatter(targets, preds, c='r', alpha=0.5)\n",
        "    plt.plot([-0.2, lim], [-0.2, lim], c='b')\n",
        "    plt.xlim(-0.2, lim)\n",
        "    plt.ylim(-0.2, lim)\n",
        "    plt.xlabel('ground truth value')\n",
        "    plt.ylabel('predicted value')\n",
        "    plt.title('Ground Truth v.s. Prediction')\n",
        "    plt.show()"
      ],
      "execution_count": 123,
      "outputs": []
    },
    {
      "cell_type": "markdown",
      "metadata": {
        "id": "39U_XFX6KOoj"
      },
      "source": [
        "# **Preprocess**\n",
        "\n",
        "We have three kinds of datasets:\n",
        "* `train`: for training\n",
        "* `dev`: for validation\n",
        "* `test`: for testing (w/o target value)"
      ]
    },
    {
      "cell_type": "markdown",
      "metadata": {
        "id": "TQ-MdwpLL7Dt"
      },
      "source": [
        "## **Dataset**\n",
        "\n",
        "The `COVID19Dataset` below does:\n",
        "* read `.csv` files\n",
        "* extract features\n",
        "* split `covid.train.csv` into train/dev sets\n",
        "* normalize features\n",
        "\n",
        "Finishing `TODO` below might make you pass medium baseline."
      ]
    },
    {
      "cell_type": "code",
      "metadata": {
        "id": "0zlpIp9ANJRU"
      },
      "source": [
        "class COVID19Dataset(Dataset):\n",
        "    ''' Dataset for loading and preprocessing the COVID19 dataset '''\n",
        "    def __init__(self,\n",
        "                 path,\n",
        "                 mode='train',\n",
        "                 target_only=False):\n",
        "        self.mode = mode\n",
        "\n",
        "        # Read data into numpy arrays\n",
        "        with open(path, 'r') as fp:\n",
        "            data = list(csv.reader(fp))\n",
        "            data = np.array(data[1:])[:, 1:].astype(float)\n",
        "        \n",
        "        if not target_only:\n",
        "            feats = list(range(93))\n",
        "        else:\n",
        "            # TODO: Using 40 states & 2 tested_positive features (indices = 57 & 75)\n",
        "            feats = list(range(40))+[40, 41, 42, 43, 57, 58, 59, 60, 61, 62, 75, 76, 77, 78, 79 ]\n",
        "            pass\n",
        "\n",
        "        if mode == 'test':\n",
        "            # Testing data\n",
        "            # data: 893 x 93 (40 states + day 1 (18) + day 2 (18) + day 3 (17))\n",
        "            data = data[:, feats]\n",
        "            self.data = torch.FloatTensor(data)\n",
        "        else:\n",
        "            # Training data (train/dev sets)\n",
        "            # data: 2700 x 94 (40 states + day 1 (18) + day 2 (18) + day 3 (18))\n",
        "            target = data[:, -1]\n",
        "            data = data[:, feats]\n",
        "            \n",
        "            # Splitting training data into train & dev sets\n",
        "            if mode == 'train':\n",
        "                indices = [i for i in range(len(data)) if i % 10 != 0]\n",
        "            elif mode == 'dev':\n",
        "                indices = [i for i in range(len(data)) if i % 10 == 0]\n",
        "            \n",
        "            # Convert data into PyTorch tensors\n",
        "            self.data = torch.FloatTensor(data[indices])\n",
        "            self.target = torch.FloatTensor(target[indices])\n",
        "\n",
        "        # Normalize features (you may remove this part to see what will happen)\n",
        "               \n",
        "        \n",
        "\n",
        "        self.dim = self.data.shape[1]\n",
        "\n",
        "        print('Finished reading the {} set of COVID19 Dataset ({} samples found, each dim = {})'\n",
        "              .format(mode, len(self.data), self.dim))\n",
        "\n",
        "    def __getitem__(self, index):\n",
        "        # Returns one sample at a time\n",
        "        if self.mode in ['train', 'dev']:\n",
        "            # For training\n",
        "            return self.data[index], self.target[index]\n",
        "        else:\n",
        "            # For testing (no target)\n",
        "            return self.data[index]\n",
        "\n",
        "    def __len__(self):\n",
        "        # Returns the size of the dataset\n",
        "        return len(self.data)"
      ],
      "execution_count": 124,
      "outputs": []
    },
    {
      "cell_type": "markdown",
      "metadata": {
        "id": "AlhTlkE7MDo3"
      },
      "source": [
        "## **DataLoader**\n",
        "\n",
        "A `DataLoader` loads data from a given `Dataset` into batches.\n"
      ]
    },
    {
      "cell_type": "code",
      "metadata": {
        "id": "hlhLk5t6MBX3"
      },
      "source": [
        "def prep_dataloader(path, mode, batch_size, n_jobs=0, target_only=False):\n",
        "    ''' Generates a dataset, then is put into a dataloader. '''\n",
        "    dataset = COVID19Dataset(path, mode=mode, target_only=target_only)  # Construct dataset\n",
        "    dataloader = DataLoader(\n",
        "        dataset, batch_size,\n",
        "        shuffle=(mode == 'train'), drop_last=False,\n",
        "        num_workers=n_jobs, pin_memory=True)                            # Construct dataloader\n",
        "    return dataloader"
      ],
      "execution_count": 125,
      "outputs": []
    },
    {
      "cell_type": "markdown",
      "metadata": {
        "id": "SGuycwR0MeQB"
      },
      "source": [
        "# **Deep Neural Network**\n",
        "\n",
        "`NeuralNet` is an `nn.Module` designed for regression.\n",
        "The DNN consists of 2 fully-connected layers with ReLU activation.\n",
        "This module also included a function `cal_loss` for calculating loss.\n"
      ]
    },
    {
      "cell_type": "code",
      "metadata": {
        "id": "49-uXYovOAI0"
      },
      "source": [
        "class NeuralNet(nn.Module):\n",
        "    ''' A simple fully-connected deep neural network '''\n",
        "    def __init__(self, input_dim):\n",
        "        super(NeuralNet, self).__init__()\n",
        "\n",
        "        # Define your neural network here\n",
        "        # TODO: How to modify this model to achieve better performance?\n",
        "        self.net = nn.Sequential(\n",
        "            nn.Linear(input_dim, 8),\n",
        "            \n",
        "            \n",
        "            nn.LeakyReLU(),\n",
        "            nn.Linear(8, 64),\n",
        "\n",
        "            \n",
        "            nn.LeakyReLU(),\n",
        "            nn.Linear(64, 1),\n",
        "         \n",
        "        )\n",
        "\n",
        "        # Mean squared error loss\n",
        "        self.criterion = nn.MSELoss(reduction='mean')\n",
        "\n",
        "    def forward(self, x):\n",
        "        ''' Given input of size (batch_size x input_dim), compute output of the network '''\n",
        "        return self.net(x).squeeze(1)\n",
        "\n",
        "    def cal_loss(self, pred, target):\n",
        "        ''' Calculate loss '''\n",
        "        # TODO: you may implement L2 regularization here\n",
        "        device = get_device()\n",
        "        L2_lambda = 0.0001\n",
        "        L2_reg = torch.tensor(0.).to(device)\n",
        "        for param in self.parameters():\n",
        "          L2_reg += torch.norm(param)\n",
        "        loss = L2_lambda * L2_reg+self.criterion(pred, target)\n",
        "        return loss"
      ],
      "execution_count": 126,
      "outputs": []
    },
    {
      "cell_type": "markdown",
      "metadata": {
        "id": "DvFWVjZ5Nvga"
      },
      "source": [
        "# **Train/Dev/Test**"
      ]
    },
    {
      "cell_type": "markdown",
      "metadata": {
        "id": "MAM8QecJOyqn"
      },
      "source": [
        "## **Training**"
      ]
    },
    {
      "cell_type": "code",
      "metadata": {
        "id": "lOqcmYzMO7jB"
      },
      "source": [
        "def train(tr_set, dv_set, model, config, device):\n",
        "    ''' DNN training '''\n",
        "\n",
        "    n_epochs = config['n_epochs']  # Maximum number of epochs\n",
        "\n",
        "    # Setup optimizer\n",
        "    optimizer = getattr(torch.optim, config['optimizer'])(\n",
        "        model.parameters(), **config['optim_hparas'])\n",
        "\n",
        "    min_mse = 1000.\n",
        "    loss_record = {'train': [], 'dev': []}      # for recording training loss\n",
        "    early_stop_cnt = 0\n",
        "    epoch = 0\n",
        "    while epoch < n_epochs:\n",
        "        model.train()                           # set model to training mode\n",
        "        for x, y in tr_set:                     # iterate through the dataloader\n",
        "            optimizer.zero_grad()               # set gradient to zero\n",
        "            x, y = x.to(device), y.to(device)   # move data to device (cpu/cuda)\n",
        "            pred = model(x)                     # forward pass (compute output)\n",
        "            mse_loss = model.cal_loss(pred, y)  # compute loss\n",
        "            mse_loss.backward()                 # compute gradient (backpropagation)\n",
        "            optimizer.step()                    # update model with optimizer\n",
        "            loss_record['train'].append(mse_loss.detach().cpu().item())\n",
        "\n",
        "        # After each epoch, test your model on the validation (development) set.\n",
        "        dev_mse = dev(dv_set, model, device)\n",
        "        if dev_mse < min_mse:\n",
        "            # Save model if your model improved\n",
        "            min_mse = dev_mse\n",
        "            print('Saving model (epoch = {:4d}, loss = {:.4f})'\n",
        "                .format(epoch + 1, min_mse))\n",
        "            torch.save(model.state_dict(), config['save_path'])  # Save model to specified path\n",
        "            early_stop_cnt = 0\n",
        "        else:\n",
        "            early_stop_cnt += 1\n",
        "\n",
        "        epoch += 1\n",
        "        loss_record['dev'].append(dev_mse)\n",
        "        if early_stop_cnt > config['early_stop']:\n",
        "            # Stop training if your model stops improving for \"config['early_stop']\" epochs.\n",
        "            break\n",
        "\n",
        "    print('Finished training after {} epochs'.format(epoch))\n",
        "    return min_mse, loss_record"
      ],
      "execution_count": 127,
      "outputs": []
    },
    {
      "cell_type": "markdown",
      "metadata": {
        "id": "0hSd4Bn3O2PL"
      },
      "source": [
        "## **Validation**"
      ]
    },
    {
      "cell_type": "code",
      "metadata": {
        "id": "yrxrD3YsN3U2"
      },
      "source": [
        "def dev(dv_set, model, device):\n",
        "    model.eval()                                # set model to evalutation mode\n",
        "    total_loss = 0\n",
        "    for x, y in dv_set:                         # iterate through the dataloader\n",
        "        x, y = x.to(device), y.to(device)       # move data to device (cpu/cuda)\n",
        "        with torch.no_grad():                   # disable gradient calculation\n",
        "            pred = model(x)                     # forward pass (compute output)\n",
        "            mse_loss = model.cal_loss(pred, y)  # compute loss\n",
        "        total_loss += mse_loss.detach().cpu().item() * len(x)  # accumulate loss\n",
        "    total_loss = total_loss / len(dv_set.dataset)              # compute averaged loss\n",
        "\n",
        "    return total_loss"
      ],
      "execution_count": 128,
      "outputs": []
    },
    {
      "cell_type": "markdown",
      "metadata": {
        "id": "g0pdrhQAO41L"
      },
      "source": [
        "## **Testing**"
      ]
    },
    {
      "cell_type": "code",
      "metadata": {
        "id": "aSBMRFlYN5tB"
      },
      "source": [
        "def test(tt_set, model, device):\n",
        "    model.eval()                                # set model to evalutation mode\n",
        "    preds = []\n",
        "    for x in tt_set:                            # iterate through the dataloader\n",
        "        x = x.to(device)                        # move data to device (cpu/cuda)\n",
        "        with torch.no_grad():                   # disable gradient calculation\n",
        "            pred = model(x)                     # forward pass (compute output)\n",
        "            preds.append(pred.detach().cpu())   # collect prediction\n",
        "    preds = torch.cat(preds, dim=0).numpy()     # concatenate all predictions and convert to a numpy array\n",
        "    return preds"
      ],
      "execution_count": 129,
      "outputs": []
    },
    {
      "cell_type": "markdown",
      "metadata": {
        "id": "SvckkF5dvf0j"
      },
      "source": [
        "# **Setup Hyper-parameters**\n",
        "\n",
        "`config` contains hyper-parameters for training and the path to save your model."
      ]
    },
    {
      "cell_type": "code",
      "metadata": {
        "id": "NPXpdumwPjE7"
      },
      "source": [
        "device = get_device()                 # get the current available device ('cpu' or 'cuda')\n",
        "os.makedirs('models', exist_ok=True)  # The trained model will be saved to ./models/\n",
        "target_only = True                   # TODO: Using 40 states & 2 tested_positive features\n",
        "\n",
        "# TODO: How to tune these hyper-parameters to improve your model's performance?\n",
        "config = {\n",
        "    'n_epochs': 3000,                # maximum number of epochs\n",
        "    'batch_size': 512,               # mini-batch size for dataloader\n",
        "    'optimizer': 'Adam',              # optimization algorithm (optimizer in torch.optim)\n",
        "    'optim_hparas': {                # hyper-parameters for the optimizer (depends on which optimizer you are using)\n",
        "        'lr': 0.0019001,                 # learning rate of SGD\n",
        "        'weight_decay': 0.0001      # momentum for SGD\n",
        "        \n",
        "    },\n",
        "    'early_stop': 200,               # early stopping epochs (the number epochs since your model's last improvement)\n",
        "    'save_path': 'models/model.pth'  # your model will be saved here\n",
        "}"
      ],
      "execution_count": 130,
      "outputs": []
    },
    {
      "cell_type": "markdown",
      "metadata": {
        "id": "6j1eOV3TOH-j"
      },
      "source": [
        "# **Load data and model**"
      ]
    },
    {
      "cell_type": "code",
      "metadata": {
        "id": "eNrYBMmePLKm",
        "colab": {
          "base_uri": "https://localhost:8080/"
        },
        "outputId": "15868bfe-ff37-4e3e-b500-490b44119aad"
      },
      "source": [
        "tr_set = prep_dataloader(tr_path, 'train', config['batch_size'], target_only=target_only)\n",
        "dv_set = prep_dataloader(tr_path, 'dev', config['batch_size'], target_only=target_only)\n",
        "tt_set = prep_dataloader(tt_path, 'test', config['batch_size'], target_only=target_only)"
      ],
      "execution_count": 131,
      "outputs": [
        {
          "output_type": "stream",
          "text": [
            "Finished reading the train set of COVID19 Dataset (2430 samples found, each dim = 55)\n",
            "Finished reading the dev set of COVID19 Dataset (270 samples found, each dim = 55)\n",
            "Finished reading the test set of COVID19 Dataset (893 samples found, each dim = 55)\n"
          ],
          "name": "stdout"
        }
      ]
    },
    {
      "cell_type": "code",
      "metadata": {
        "id": "FHylSirLP9oh"
      },
      "source": [
        "model = NeuralNet(tr_set.dataset.dim).to(device)  # Construct model and move to device"
      ],
      "execution_count": 132,
      "outputs": []
    },
    {
      "cell_type": "markdown",
      "metadata": {
        "id": "sX2B_zgSOPTJ"
      },
      "source": [
        "# **Start Training!**"
      ]
    },
    {
      "cell_type": "code",
      "metadata": {
        "id": "GrEbUxazQAAZ",
        "colab": {
          "base_uri": "https://localhost:8080/"
        },
        "outputId": "6e7fd368-b1e9-4f61-c822-4749552b381b"
      },
      "source": [
        "model_loss, model_loss_record = train(tr_set, dv_set, model, config, device)"
      ],
      "execution_count": 133,
      "outputs": [
        {
          "output_type": "stream",
          "text": [
            "Saving model (epoch =    1, loss = 322.4816)\n",
            "Saving model (epoch =    2, loss = 269.9384)\n",
            "Saving model (epoch =    3, loss = 220.7099)\n",
            "Saving model (epoch =    4, loss = 172.8763)\n",
            "Saving model (epoch =    5, loss = 126.8524)\n",
            "Saving model (epoch =    6, loss = 84.7251)\n",
            "Saving model (epoch =    7, loss = 49.8458)\n",
            "Saving model (epoch =    8, loss = 26.7918)\n",
            "Saving model (epoch =    9, loss = 18.9951)\n",
            "Saving model (epoch =   15, loss = 18.3441)\n",
            "Saving model (epoch =   19, loss = 17.9110)\n",
            "Saving model (epoch =   20, loss = 16.7975)\n",
            "Saving model (epoch =   21, loss = 15.8780)\n",
            "Saving model (epoch =   22, loss = 15.3383)\n",
            "Saving model (epoch =   23, loss = 14.9716)\n",
            "Saving model (epoch =   24, loss = 14.5197)\n",
            "Saving model (epoch =   25, loss = 13.9196)\n",
            "Saving model (epoch =   26, loss = 13.2865)\n",
            "Saving model (epoch =   27, loss = 12.7335)\n",
            "Saving model (epoch =   28, loss = 12.2379)\n",
            "Saving model (epoch =   29, loss = 11.7575)\n",
            "Saving model (epoch =   30, loss = 11.2547)\n",
            "Saving model (epoch =   31, loss = 10.7757)\n",
            "Saving model (epoch =   32, loss = 10.3468)\n",
            "Saving model (epoch =   33, loss = 9.9324)\n",
            "Saving model (epoch =   34, loss = 9.5112)\n",
            "Saving model (epoch =   35, loss = 9.0940)\n",
            "Saving model (epoch =   36, loss = 8.7240)\n",
            "Saving model (epoch =   37, loss = 8.3986)\n",
            "Saving model (epoch =   38, loss = 8.1068)\n",
            "Saving model (epoch =   39, loss = 7.8491)\n",
            "Saving model (epoch =   40, loss = 7.6142)\n",
            "Saving model (epoch =   41, loss = 7.3877)\n",
            "Saving model (epoch =   42, loss = 7.1822)\n",
            "Saving model (epoch =   43, loss = 7.0038)\n",
            "Saving model (epoch =   44, loss = 6.8423)\n",
            "Saving model (epoch =   45, loss = 6.6895)\n",
            "Saving model (epoch =   46, loss = 6.5592)\n",
            "Saving model (epoch =   47, loss = 6.4235)\n",
            "Saving model (epoch =   48, loss = 6.2984)\n",
            "Saving model (epoch =   49, loss = 6.1836)\n",
            "Saving model (epoch =   50, loss = 6.0718)\n",
            "Saving model (epoch =   51, loss = 5.9696)\n",
            "Saving model (epoch =   52, loss = 5.8625)\n",
            "Saving model (epoch =   53, loss = 5.7349)\n",
            "Saving model (epoch =   54, loss = 5.6260)\n",
            "Saving model (epoch =   55, loss = 5.5198)\n",
            "Saving model (epoch =   56, loss = 5.4131)\n",
            "Saving model (epoch =   57, loss = 5.3002)\n",
            "Saving model (epoch =   58, loss = 5.1858)\n",
            "Saving model (epoch =   59, loss = 5.0681)\n",
            "Saving model (epoch =   60, loss = 4.9558)\n",
            "Saving model (epoch =   61, loss = 4.8469)\n",
            "Saving model (epoch =   62, loss = 4.7478)\n",
            "Saving model (epoch =   63, loss = 4.6262)\n",
            "Saving model (epoch =   64, loss = 4.5134)\n",
            "Saving model (epoch =   65, loss = 4.4002)\n",
            "Saving model (epoch =   66, loss = 4.2918)\n",
            "Saving model (epoch =   67, loss = 4.1809)\n",
            "Saving model (epoch =   68, loss = 4.0639)\n",
            "Saving model (epoch =   69, loss = 3.9484)\n",
            "Saving model (epoch =   70, loss = 3.8305)\n",
            "Saving model (epoch =   71, loss = 3.7194)\n",
            "Saving model (epoch =   72, loss = 3.6131)\n",
            "Saving model (epoch =   73, loss = 3.4987)\n",
            "Saving model (epoch =   74, loss = 3.3917)\n",
            "Saving model (epoch =   75, loss = 3.2799)\n",
            "Saving model (epoch =   76, loss = 3.1709)\n",
            "Saving model (epoch =   77, loss = 3.0612)\n",
            "Saving model (epoch =   78, loss = 2.9613)\n",
            "Saving model (epoch =   79, loss = 2.8490)\n",
            "Saving model (epoch =   80, loss = 2.7495)\n",
            "Saving model (epoch =   81, loss = 2.6545)\n",
            "Saving model (epoch =   82, loss = 2.5447)\n",
            "Saving model (epoch =   83, loss = 2.4437)\n",
            "Saving model (epoch =   84, loss = 2.3745)\n",
            "Saving model (epoch =   85, loss = 2.2581)\n",
            "Saving model (epoch =   86, loss = 2.1716)\n",
            "Saving model (epoch =   87, loss = 2.0655)\n",
            "Saving model (epoch =   88, loss = 1.9077)\n",
            "Saving model (epoch =   89, loss = 1.8472)\n",
            "Saving model (epoch =   90, loss = 1.7431)\n",
            "Saving model (epoch =   91, loss = 1.6775)\n",
            "Saving model (epoch =   92, loss = 1.6399)\n",
            "Saving model (epoch =   93, loss = 1.5623)\n",
            "Saving model (epoch =   94, loss = 1.5449)\n",
            "Saving model (epoch =   95, loss = 1.4730)\n",
            "Saving model (epoch =   96, loss = 1.4657)\n",
            "Saving model (epoch =   97, loss = 1.4453)\n",
            "Saving model (epoch =   98, loss = 1.3872)\n",
            "Saving model (epoch =  100, loss = 1.3576)\n",
            "Saving model (epoch =  101, loss = 1.3547)\n",
            "Saving model (epoch =  103, loss = 1.3277)\n",
            "Saving model (epoch =  105, loss = 1.3172)\n",
            "Saving model (epoch =  107, loss = 1.3129)\n",
            "Saving model (epoch =  109, loss = 1.3020)\n",
            "Saving model (epoch =  110, loss = 1.2993)\n",
            "Saving model (epoch =  112, loss = 1.2950)\n",
            "Saving model (epoch =  115, loss = 1.2903)\n",
            "Saving model (epoch =  116, loss = 1.2890)\n",
            "Saving model (epoch =  118, loss = 1.2780)\n",
            "Saving model (epoch =  120, loss = 1.2732)\n",
            "Saving model (epoch =  122, loss = 1.2729)\n",
            "Saving model (epoch =  124, loss = 1.2678)\n",
            "Saving model (epoch =  126, loss = 1.2616)\n",
            "Saving model (epoch =  129, loss = 1.2589)\n",
            "Saving model (epoch =  130, loss = 1.2587)\n",
            "Saving model (epoch =  132, loss = 1.2487)\n",
            "Saving model (epoch =  135, loss = 1.2441)\n",
            "Saving model (epoch =  137, loss = 1.2388)\n",
            "Saving model (epoch =  139, loss = 1.2347)\n",
            "Saving model (epoch =  141, loss = 1.2306)\n",
            "Saving model (epoch =  146, loss = 1.2210)\n",
            "Saving model (epoch =  151, loss = 1.2178)\n",
            "Saving model (epoch =  153, loss = 1.2132)\n",
            "Saving model (epoch =  155, loss = 1.2088)\n",
            "Saving model (epoch =  157, loss = 1.2078)\n",
            "Saving model (epoch =  159, loss = 1.2036)\n",
            "Saving model (epoch =  161, loss = 1.2005)\n",
            "Saving model (epoch =  164, loss = 1.1959)\n",
            "Saving model (epoch =  166, loss = 1.1939)\n",
            "Saving model (epoch =  168, loss = 1.1875)\n",
            "Saving model (epoch =  173, loss = 1.1844)\n",
            "Saving model (epoch =  175, loss = 1.1775)\n",
            "Saving model (epoch =  178, loss = 1.1766)\n",
            "Saving model (epoch =  181, loss = 1.1745)\n",
            "Saving model (epoch =  185, loss = 1.1726)\n",
            "Saving model (epoch =  187, loss = 1.1640)\n",
            "Saving model (epoch =  190, loss = 1.1588)\n",
            "Saving model (epoch =  193, loss = 1.1556)\n",
            "Saving model (epoch =  197, loss = 1.1514)\n",
            "Saving model (epoch =  211, loss = 1.1331)\n",
            "Saving model (epoch =  213, loss = 1.1318)\n",
            "Saving model (epoch =  215, loss = 1.1279)\n",
            "Saving model (epoch =  217, loss = 1.1259)\n",
            "Saving model (epoch =  219, loss = 1.1242)\n",
            "Saving model (epoch =  222, loss = 1.1234)\n",
            "Saving model (epoch =  225, loss = 1.1169)\n",
            "Saving model (epoch =  227, loss = 1.1147)\n",
            "Saving model (epoch =  229, loss = 1.1125)\n",
            "Saving model (epoch =  233, loss = 1.1088)\n",
            "Saving model (epoch =  236, loss = 1.1042)\n",
            "Saving model (epoch =  238, loss = 1.1038)\n",
            "Saving model (epoch =  240, loss = 1.1027)\n",
            "Saving model (epoch =  241, loss = 1.0987)\n",
            "Saving model (epoch =  243, loss = 1.0963)\n",
            "Saving model (epoch =  246, loss = 1.0952)\n",
            "Saving model (epoch =  248, loss = 1.0916)\n",
            "Saving model (epoch =  252, loss = 1.0845)\n",
            "Saving model (epoch =  256, loss = 1.0826)\n",
            "Saving model (epoch =  262, loss = 1.0770)\n",
            "Saving model (epoch =  264, loss = 1.0747)\n",
            "Saving model (epoch =  265, loss = 1.0715)\n",
            "Saving model (epoch =  267, loss = 1.0683)\n",
            "Saving model (epoch =  271, loss = 1.0625)\n",
            "Saving model (epoch =  273, loss = 1.0625)\n",
            "Saving model (epoch =  278, loss = 1.0620)\n",
            "Saving model (epoch =  279, loss = 1.0612)\n",
            "Saving model (epoch =  280, loss = 1.0548)\n",
            "Saving model (epoch =  282, loss = 1.0507)\n",
            "Saving model (epoch =  286, loss = 1.0459)\n",
            "Saving model (epoch =  290, loss = 1.0456)\n",
            "Saving model (epoch =  296, loss = 1.0385)\n",
            "Saving model (epoch =  299, loss = 1.0319)\n",
            "Saving model (epoch =  304, loss = 1.0284)\n",
            "Saving model (epoch =  306, loss = 1.0242)\n",
            "Saving model (epoch =  314, loss = 1.0221)\n",
            "Saving model (epoch =  316, loss = 1.0166)\n",
            "Saving model (epoch =  319, loss = 1.0162)\n",
            "Saving model (epoch =  320, loss = 1.0143)\n",
            "Saving model (epoch =  322, loss = 1.0112)\n",
            "Saving model (epoch =  324, loss = 1.0075)\n",
            "Saving model (epoch =  328, loss = 1.0053)\n",
            "Saving model (epoch =  329, loss = 1.0022)\n",
            "Saving model (epoch =  337, loss = 0.9989)\n",
            "Saving model (epoch =  339, loss = 0.9945)\n",
            "Saving model (epoch =  345, loss = 0.9915)\n",
            "Saving model (epoch =  347, loss = 0.9885)\n",
            "Saving model (epoch =  349, loss = 0.9863)\n",
            "Saving model (epoch =  350, loss = 0.9861)\n",
            "Saving model (epoch =  354, loss = 0.9846)\n",
            "Saving model (epoch =  355, loss = 0.9840)\n",
            "Saving model (epoch =  356, loss = 0.9799)\n",
            "Saving model (epoch =  359, loss = 0.9758)\n",
            "Saving model (epoch =  363, loss = 0.9728)\n",
            "Saving model (epoch =  364, loss = 0.9718)\n",
            "Saving model (epoch =  368, loss = 0.9696)\n",
            "Saving model (epoch =  370, loss = 0.9667)\n",
            "Saving model (epoch =  372, loss = 0.9648)\n",
            "Saving model (epoch =  374, loss = 0.9643)\n",
            "Saving model (epoch =  375, loss = 0.9633)\n",
            "Saving model (epoch =  379, loss = 0.9604)\n",
            "Saving model (epoch =  380, loss = 0.9582)\n",
            "Saving model (epoch =  387, loss = 0.9531)\n",
            "Saving model (epoch =  391, loss = 0.9513)\n",
            "Saving model (epoch =  398, loss = 0.9505)\n",
            "Saving model (epoch =  400, loss = 0.9484)\n",
            "Saving model (epoch =  404, loss = 0.9386)\n",
            "Saving model (epoch =  406, loss = 0.9351)\n",
            "Saving model (epoch =  417, loss = 0.9327)\n",
            "Saving model (epoch =  420, loss = 0.9312)\n",
            "Saving model (epoch =  424, loss = 0.9297)\n",
            "Saving model (epoch =  425, loss = 0.9276)\n",
            "Saving model (epoch =  434, loss = 0.9196)\n",
            "Saving model (epoch =  436, loss = 0.9181)\n",
            "Saving model (epoch =  437, loss = 0.9176)\n",
            "Saving model (epoch =  445, loss = 0.9128)\n",
            "Saving model (epoch =  455, loss = 0.9077)\n",
            "Saving model (epoch =  461, loss = 0.9029)\n",
            "Saving model (epoch =  467, loss = 0.9023)\n",
            "Saving model (epoch =  469, loss = 0.9012)\n",
            "Saving model (epoch =  471, loss = 0.8982)\n",
            "Saving model (epoch =  476, loss = 0.8959)\n",
            "Saving model (epoch =  477, loss = 0.8952)\n",
            "Saving model (epoch =  490, loss = 0.8911)\n",
            "Saving model (epoch =  494, loss = 0.8879)\n",
            "Saving model (epoch =  497, loss = 0.8864)\n",
            "Saving model (epoch =  502, loss = 0.8863)\n",
            "Saving model (epoch =  516, loss = 0.8816)\n",
            "Saving model (epoch =  519, loss = 0.8816)\n",
            "Saving model (epoch =  522, loss = 0.8814)\n",
            "Saving model (epoch =  523, loss = 0.8795)\n",
            "Saving model (epoch =  526, loss = 0.8771)\n",
            "Saving model (epoch =  528, loss = 0.8765)\n",
            "Saving model (epoch =  530, loss = 0.8758)\n",
            "Saving model (epoch =  531, loss = 0.8756)\n",
            "Saving model (epoch =  539, loss = 0.8721)\n",
            "Saving model (epoch =  543, loss = 0.8695)\n",
            "Saving model (epoch =  551, loss = 0.8688)\n",
            "Saving model (epoch =  555, loss = 0.8650)\n",
            "Saving model (epoch =  558, loss = 0.8645)\n",
            "Saving model (epoch =  564, loss = 0.8606)\n",
            "Saving model (epoch =  573, loss = 0.8586)\n",
            "Saving model (epoch =  576, loss = 0.8584)\n",
            "Saving model (epoch =  577, loss = 0.8572)\n",
            "Saving model (epoch =  590, loss = 0.8547)\n",
            "Saving model (epoch =  603, loss = 0.8545)\n",
            "Saving model (epoch =  604, loss = 0.8532)\n",
            "Saving model (epoch =  623, loss = 0.8512)\n",
            "Saving model (epoch =  627, loss = 0.8470)\n",
            "Saving model (epoch =  628, loss = 0.8464)\n",
            "Saving model (epoch =  638, loss = 0.8446)\n",
            "Saving model (epoch =  639, loss = 0.8442)\n",
            "Saving model (epoch =  653, loss = 0.8431)\n",
            "Saving model (epoch =  663, loss = 0.8424)\n",
            "Saving model (epoch =  670, loss = 0.8408)\n",
            "Saving model (epoch =  682, loss = 0.8381)\n",
            "Saving model (epoch =  702, loss = 0.8378)\n",
            "Saving model (epoch =  703, loss = 0.8375)\n",
            "Saving model (epoch =  718, loss = 0.8363)\n",
            "Saving model (epoch =  720, loss = 0.8356)\n",
            "Saving model (epoch =  728, loss = 0.8349)\n",
            "Saving model (epoch =  735, loss = 0.8347)\n",
            "Saving model (epoch =  741, loss = 0.8340)\n",
            "Saving model (epoch =  748, loss = 0.8340)\n",
            "Saving model (epoch =  751, loss = 0.8299)\n",
            "Saving model (epoch =  764, loss = 0.8296)\n",
            "Saving model (epoch =  770, loss = 0.8291)\n",
            "Saving model (epoch =  786, loss = 0.8289)\n",
            "Saving model (epoch =  818, loss = 0.8285)\n",
            "Saving model (epoch =  819, loss = 0.8278)\n",
            "Saving model (epoch =  831, loss = 0.8264)\n",
            "Saving model (epoch =  843, loss = 0.8256)\n",
            "Saving model (epoch =  844, loss = 0.8251)\n",
            "Saving model (epoch =  848, loss = 0.8251)\n",
            "Saving model (epoch =  851, loss = 0.8239)\n",
            "Saving model (epoch =  888, loss = 0.8237)\n",
            "Saving model (epoch =  923, loss = 0.8231)\n",
            "Saving model (epoch =  954, loss = 0.8230)\n",
            "Saving model (epoch =  963, loss = 0.8209)\n",
            "Saving model (epoch =  966, loss = 0.8201)\n",
            "Saving model (epoch =  978, loss = 0.8193)\n",
            "Saving model (epoch =  979, loss = 0.8184)\n",
            "Finished training after 1180 epochs\n"
          ],
          "name": "stdout"
        }
      ]
    },
    {
      "cell_type": "code",
      "metadata": {
        "id": "hsNO9nnXQBvP",
        "colab": {
          "base_uri": "https://localhost:8080/",
          "height": 295
        },
        "outputId": "4fc3e5e7-4681-4ea3-f0e7-de216c122598"
      },
      "source": [
        "plot_learning_curve(model_loss_record, title='deep model')"
      ],
      "execution_count": 134,
      "outputs": [
        {
          "output_type": "display_data",
          "data": {
            "image/png": "[encoded data removed]",
            "text/plain": [
              "<Figure size 432x288 with 1 Axes>"
            ]
          },
          "metadata": {
            "tags": [],
            "needs_background": "light"
          }
        }
      ]
    },
    {
      "cell_type": "code",
      "metadata": {
        "id": "3iZTVn5WQFpX",
        "colab": {
          "base_uri": "https://localhost:8080/",
          "height": 350
        },
        "outputId": "fbb446c9-b723-4d45-f190-f6316a56344c"
      },
      "source": [
        "del model\n",
        "model = NeuralNet(tr_set.dataset.dim).to(device)\n",
        "ckpt = torch.load(config['save_path'], map_location='cpu')  # Load your best model\n",
        "model.load_state_dict(ckpt)\n",
        "plot_pred(dv_set, model, device)  # Show prediction on the validation set"
      ],
      "execution_count": 135,
      "outputs": [
        {
          "output_type": "display_data",
          "data": {
            "image/png": "[encoded data removed]",
            "text/plain": [
              "<Figure size 360x360 with 1 Axes>"
            ]
          },
          "metadata": {
            "tags": [],
            "needs_background": "light"
          }
        }
      ]
    },
    {
      "cell_type": "markdown",
      "metadata": {
        "id": "aQikz3IPiyPf"
      },
      "source": [
        "# **Testing**\n",
        "The predictions of your model on testing set will be stored at `pred.csv`."
      ]
    },
    {
      "cell_type": "code",
      "metadata": {
        "id": "O8cTuQjQQOon",
        "colab": {
          "base_uri": "https://localhost:8080/"
        },
        "outputId": "3b877696-5dec-4f13-c9cc-3e87c097f195"
      },
      "source": [
        "def save_pred(preds, file):\n",
        "    ''' Save predictions to specified file '''\n",
        "    print('Saving results to {}'.format(file))\n",
        "    with open(file, 'w') as fp:\n",
        "        writer = csv.writer(fp)\n",
        "        writer.writerow(['id', 'tested_positive'])\n",
        "        for i, p in enumerate(preds):\n",
        "            writer.writerow([i, p])\n",
        "\n",
        "preds = test(tt_set, model, device)  # predict COVID-19 cases with your model\n",
        "save_pred(preds, 'pred.csv')         # save prediction file to pred.csv"
      ],
      "execution_count": 136,
      "outputs": [
        {
          "output_type": "stream",
          "text": [
            "Saving results to pred.csv\n"
          ],
          "name": "stdout"
        }
      ]
    },
    {
      "cell_type": "markdown",
      "metadata": {
        "id": "nfrVxqJanGpE"
      },
      "source": [
        "# **Hints**\n",
        "\n",
        "## **Simple Baseline**\n",
        "* Run sample code\n",
        "\n",
        "## **Medium Baseline**\n",
        "* Feature selection: 40 states + 2 `tested_positive` (`TODO` in dataset)\n",
        "\n",
        "## **Strong Baseline**\n",
        "* Feature selection (what other features are useful?)\n",
        "* DNN architecture (layers? dimension? activation function?)\n",
        "* Training (mini-batch? optimizer? learning rate?)\n",
        "* L2 regularization\n",
        "* There are some mistakes in the sample code, can you find them?"
      ]
    },
    {
      "cell_type": "markdown",
      "metadata": {
        "id": "9tmCwXgpot3t"
      },
      "source": [
        "# **Reference**\n",
        "This code is completely written by Heng-Jui Chang @ NTUEE.  \n",
        "Copying or reusing this code is required to specify the original author. \n",
        "\n",
        "E.g.  \n",
        "Source: Heng-Jui Chang @ NTUEE (https://github.com/ga642381/ML2021-Spring/blob/main/HW01/HW01.ipynb)\n"
      ]
    }
  ]
}
